{
 "cells": [
  {
   "cell_type": "markdown",
   "id": "a6b56639-10ee-4f6d-8875-dfce8114f285",
   "metadata": {},
   "source": [
    "## Polynomial Regression Ridge"
   ]
  },
  {
   "cell_type": "code",
   "execution_count": 1,
   "id": "d9043f28-e331-4f85-a9e0-9d7589c03205",
   "metadata": {},
   "outputs": [],
   "source": [
    "#import bibliotecas\n",
    "\n",
    "import numpy as np\n",
    "import pandas as pd\n",
    "\n",
    "from sklearn import preprocessing as pp\n",
    "from sklearn import linear_model as lm\n",
    "from sklearn import metrics as mt"
   ]
  },
  {
   "cell_type": "markdown",
   "id": "873cbebd-4561-4b68-9f7c-b238dcd1d6b7",
   "metadata": {},
   "source": [
    "### Datasets"
   ]
  },
  {
   "cell_type": "code",
   "execution_count": 2,
   "id": "b99047c5-2509-483e-971e-6bb3e0cdfed0",
   "metadata": {},
   "outputs": [],
   "source": [
    "X_train = pd.read_csv('X_training.csv')\n",
    "y_train = pd.read_csv('y_training.csv') \n",
    "X_test = pd.read_csv('X_test.csv')\n",
    "y_test = pd.read_csv('y_test.csv')\n",
    "X_val = pd.read_csv('X_validation.csv')\n",
    "y_val = pd.read_csv('y_val.csv') "
   ]
  },
  {
   "cell_type": "code",
   "execution_count": 3,
   "id": "bf48ccbc-4bdb-4d03-ba2e-0f865c987ec4",
   "metadata": {},
   "outputs": [
    {
     "data": {
      "text/html": [
       "<div>\n",
       "<style scoped>\n",
       "    .dataframe tbody tr th:only-of-type {\n",
       "        vertical-align: middle;\n",
       "    }\n",
       "\n",
       "    .dataframe tbody tr th {\n",
       "        vertical-align: top;\n",
       "    }\n",
       "\n",
       "    .dataframe thead th {\n",
       "        text-align: right;\n",
       "    }\n",
       "</style>\n",
       "<table border=\"1\" class=\"dataframe\">\n",
       "  <thead>\n",
       "    <tr style=\"text-align: right;\">\n",
       "      <th></th>\n",
       "      <th>song_duration_ms</th>\n",
       "      <th>acousticness</th>\n",
       "      <th>danceability</th>\n",
       "      <th>energy</th>\n",
       "      <th>instrumentalness</th>\n",
       "      <th>key</th>\n",
       "      <th>liveness</th>\n",
       "      <th>loudness</th>\n",
       "      <th>audio_mode</th>\n",
       "      <th>speechiness</th>\n",
       "      <th>tempo</th>\n",
       "      <th>time_signature</th>\n",
       "      <th>audio_valence</th>\n",
       "    </tr>\n",
       "  </thead>\n",
       "  <tbody>\n",
       "    <tr>\n",
       "      <th>0</th>\n",
       "      <td>0.143252</td>\n",
       "      <td>0.025900</td>\n",
       "      <td>0.616</td>\n",
       "      <td>0.933</td>\n",
       "      <td>0.0000</td>\n",
       "      <td>0.000000</td>\n",
       "      <td>0.359</td>\n",
       "      <td>0.962307</td>\n",
       "      <td>0</td>\n",
       "      <td>0.0513</td>\n",
       "      <td>0.309853</td>\n",
       "      <td>0.8</td>\n",
       "      <td>0.806</td>\n",
       "    </tr>\n",
       "    <tr>\n",
       "      <th>1</th>\n",
       "      <td>0.363603</td>\n",
       "      <td>0.000188</td>\n",
       "      <td>0.490</td>\n",
       "      <td>0.972</td>\n",
       "      <td>0.0299</td>\n",
       "      <td>0.909091</td>\n",
       "      <td>0.368</td>\n",
       "      <td>0.765216</td>\n",
       "      <td>0</td>\n",
       "      <td>0.1110</td>\n",
       "      <td>-0.908089</td>\n",
       "      <td>0.8</td>\n",
       "      <td>0.376</td>\n",
       "    </tr>\n",
       "  </tbody>\n",
       "</table>\n",
       "</div>"
      ],
      "text/plain": [
       "   song_duration_ms  acousticness  danceability  energy  instrumentalness  \\\n",
       "0          0.143252      0.025900         0.616   0.933            0.0000   \n",
       "1          0.363603      0.000188         0.490   0.972            0.0299   \n",
       "\n",
       "        key  liveness  loudness  audio_mode  speechiness     tempo  \\\n",
       "0  0.000000     0.359  0.962307           0       0.0513  0.309853   \n",
       "1  0.909091     0.368  0.765216           0       0.1110 -0.908089   \n",
       "\n",
       "   time_signature  audio_valence  \n",
       "0             0.8          0.806  \n",
       "1             0.8          0.376  "
      ]
     },
     "execution_count": 3,
     "metadata": {},
     "output_type": "execute_result"
    }
   ],
   "source": [
    "X_val.head(2)"
   ]
  },
  {
   "cell_type": "code",
   "execution_count": 4,
   "id": "7376e015-fca6-4d91-9479-e841255d4bd4",
   "metadata": {},
   "outputs": [],
   "source": [
    "# preparação dos dados \n",
    "\n",
    "y_train = y_train.values.ravel()\n",
    "y_val = y_val.values.ravel()"
   ]
  },
  {
   "cell_type": "markdown",
   "id": "8b9c63c8-9c69-477c-9a72-8fd1a4179797",
   "metadata": {},
   "source": [
    "### Dados de Treino"
   ]
  },
  {
   "cell_type": "code",
   "execution_count": 5,
   "id": "d37b06ef-13bc-4547-adef-d9858e657f91",
   "metadata": {},
   "outputs": [
    {
     "name": "stdout",
     "output_type": "stream",
     "text": [
      "Degree: 1, ALPHA:1, R2:0.0461\n",
      "Degree: 1, ALPHA:2, R2:0.0461\n",
      "Degree: 1, ALPHA:3, R2:0.0461\n",
      "Degree: 2, ALPHA:1, R2:0.0932\n",
      "Degree: 2, ALPHA:2, R2:0.0925\n",
      "Degree: 2, ALPHA:3, R2:0.092\n"
     ]
    }
   ],
   "source": [
    "degrees = np.arange(1,3)\n",
    "alph = np.arange(1,4)\n",
    "degree_list= []\n",
    "alpha_list =[]\n",
    "r2_list = []\n",
    "\n",
    "\n",
    "for i in degrees:\n",
    "    #features\n",
    "    poly = pp.PolynomialFeatures (degree= i)\n",
    "    X_poly = poly.fit_transform(X_train)\n",
    "    degree_list.append(i)\n",
    "    for a in alph:\n",
    "        #definition\n",
    "        ridge = lm.Ridge( alpha = a , max_iter=100)\n",
    "        alpha_list.append(a)\n",
    "        #fit\n",
    "        ridge.fit (X_poly, y_train)\n",
    "        \n",
    "        #predict\n",
    "        ypred = ridge.predict(X_poly)\n",
    "        \n",
    "        #r2\n",
    "        r2 = round(mt.r2_score(y_train , ypred),4)\n",
    "        r2_list.append(r2)\n",
    "\n",
    "        print ( 'Degree: {}, ALPHA:{}, R2:{}' .format(i, a, r2))"
   ]
  },
  {
   "cell_type": "markdown",
   "id": "bff9c8eb-7c38-48ce-be8e-5a6812e561ed",
   "metadata": {},
   "source": [
    "**Maior R2 encontrado:**"
   ]
  },
  {
   "cell_type": "code",
   "execution_count": 6,
   "id": "e1ec12fa-396c-4964-891a-beb346f60b95",
   "metadata": {},
   "outputs": [
    {
     "data": {
      "text/plain": [
       "0.0932"
      ]
     },
     "execution_count": 6,
     "metadata": {},
     "output_type": "execute_result"
    }
   ],
   "source": [
    "max(r2_list)"
   ]
  },
  {
   "cell_type": "markdown",
   "id": "e5dc9aa3-7dc7-463f-af5b-2fdf6234254c",
   "metadata": {},
   "source": [
    "**Com o máximo R2 , temos o Degree = 2 e Alpha = 1**"
   ]
  },
  {
   "cell_type": "code",
   "execution_count": 7,
   "id": "41518418-e759-493d-89a9-4d4bf1fc245b",
   "metadata": {},
   "outputs": [
    {
     "name": "stdout",
     "output_type": "stream",
     "text": [
      "R2: 0.093\n",
      "MSE: 433.48\n",
      "RMSE: 20.82\n",
      "MAE: 16.47\n",
      "MAPE: 8.37%\n"
     ]
    }
   ],
   "source": [
    "#features\n",
    "poly = pp.PolynomialFeatures (degree= 2)\n",
    "X_poly = poly.fit_transform(X_train)\n",
    "\n",
    "#definition\n",
    "ridge = lm.Ridge( alpha = 1 , max_iter=100)\n",
    "\n",
    "#fit\n",
    "ridge.fit (X_poly, y_train)\n",
    "        \n",
    "#predict\n",
    "ypred = ridge.predict(X_poly)\n",
    "        \n",
    "#r2\n",
    "r2 = round(mt.r2_score(y_train , ypred),3)\n",
    "print( 'R2: {}'.format(r2))\n",
    "\n",
    "#mse\n",
    "mse = round(mt.mean_squared_error( y_train , ypred),2)\n",
    "print ('MSE: {}'.format(mse))\n",
    "\n",
    "#rmse \n",
    "rmse = round(np.sqrt(mse),2)\n",
    "print ('RMSE: {}'.format(rmse))\n",
    "\n",
    "#mae\n",
    "mae = np.round(mt.mean_absolute_error( y_train , ypred), 2)\n",
    "print('MAE: {}'.format( mae ))\n",
    "\n",
    "#mape\n",
    "mape = np.round(mt.mean_absolute_percentage_error( y_train , ypred), 2) \n",
    "print('MAPE: {}%'.format( mape ) )\n"
   ]
  },
  {
   "cell_type": "markdown",
   "id": "2703e45f-c747-439b-9995-8f2da5d5450e",
   "metadata": {},
   "source": [
    "### Dados de Validação"
   ]
  },
  {
   "cell_type": "code",
   "execution_count": 8,
   "id": "974878b0-bace-445b-9b06-afea0b740bc7",
   "metadata": {},
   "outputs": [
    {
     "name": "stdout",
     "output_type": "stream",
     "text": [
      "R2: 0.068\n",
      "MSE: 445.18\n",
      "RMSE: 21.099289087549845\n",
      "MAE: 16.74\n",
      "MAPE: 8.57%\n"
     ]
    }
   ],
   "source": [
    "#features\n",
    "poly = pp.PolynomialFeatures (degree= 2)\n",
    "X_polytrain = poly.fit_transform(X_train)\n",
    "X_polyval = poly.fit_transform(X_val)\n",
    "\n",
    "\n",
    "# definition\n",
    "ridge = lm.Ridge( alpha = 1 , max_iter=100)\n",
    "\n",
    "# fit\n",
    "ridge.fit( X_polytrain, y_train)\n",
    "\n",
    "# performance\n",
    "ypred_val = ridge.predict( X_polyval )\n",
    "\n",
    "#R2\n",
    "r2 = round(mt.r2_score( y_val , ypred_val),3)\n",
    "print( 'R2: {}'.format(r2))\n",
    "\n",
    "#mse\n",
    "mse = round(mt.mean_squared_error( y_val , ypred_val),2)\n",
    "print ('MSE: {}'.format(mse))\n",
    "\n",
    "#rmse \n",
    "rmse = np.sqrt(mse)\n",
    "print ('RMSE: {}'.format(rmse))\n",
    "\n",
    "#mae\n",
    "mae = np.round(mt.mean_absolute_error( y_val , ypred_val), 2)\n",
    "print('MAE: {}'.format( mae ))\n",
    "\n",
    "#mape\n",
    "mape = np.round(mt.mean_absolute_percentage_error( y_val , ypred_val), 2) \n",
    "print('MAPE: {}%'.format( mape ) )"
   ]
  },
  {
   "cell_type": "markdown",
   "id": "573b7535-6316-4e2f-83ce-9c8cd0580353",
   "metadata": {},
   "source": [
    "### Dados de Teste"
   ]
  },
  {
   "cell_type": "code",
   "execution_count": 9,
   "id": "147a89b2-8ad6-4457-bed7-f7c24c8ebaac",
   "metadata": {},
   "outputs": [
    {
     "name": "stdout",
     "output_type": "stream",
     "text": [
      "R2: 0.09\n",
      "MSE: 442.97\n",
      "RMSE: 21.046852496276017\n",
      "MAE: 16.74\n",
      "MAPE: 8.31%\n"
     ]
    }
   ],
   "source": [
    "#features\n",
    "poly = pp.PolynomialFeatures (degree= 2)\n",
    "X_polytrain = poly.fit_transform(X_train)\n",
    "X_polyval = poly.fit_transform(X_val)\n",
    "X_polytest = poly.fit_transform(X_test)\n",
    "\n",
    "# definition\n",
    "ridge = lm.Ridge( alpha = 1 , max_iter=100)\n",
    "\n",
    "# fit\n",
    "ridge.fit(np.concatenate(( X_polytrain ,X_polyval) ),\n",
    "          np.concatenate((y_train , y_val)))\n",
    "\n",
    "# performance\n",
    "ypred_test = ridge.predict( X_polytest )\n",
    "\n",
    "#R2\n",
    "r2 = round(mt.r2_score( y_test , ypred_test),3)\n",
    "print( 'R2: {}'.format(r2))\n",
    "\n",
    "#mse\n",
    "mse = round(mt.mean_squared_error( y_test , ypred_test),2)\n",
    "print ('MSE: {}'.format(mse))\n",
    "\n",
    "#rmse \n",
    "rmse = np.sqrt(mse)\n",
    "print ('RMSE: {}'.format(rmse))\n",
    "\n",
    "#mae\n",
    "mae = np.round(mt.mean_absolute_error(  y_test , ypred_test), 2)\n",
    "print('MAE: {}'.format( mae ))\n",
    "\n",
    "#mape\n",
    "mape = np.round(mt.mean_absolute_percentage_error( y_test, ypred_test), 2) \n",
    "print('MAPE: {}%'.format( mape ) )"
   ]
  }
 ],
 "metadata": {
  "kernelspec": {
   "display_name": "Python 3 (ipykernel)",
   "language": "python",
   "name": "python3"
  },
  "language_info": {
   "codemirror_mode": {
    "name": "ipython",
    "version": 3
   },
   "file_extension": ".py",
   "mimetype": "text/x-python",
   "name": "python",
   "nbconvert_exporter": "python",
   "pygments_lexer": "ipython3",
   "version": "3.12.3"
  }
 },
 "nbformat": 4,
 "nbformat_minor": 5
}
