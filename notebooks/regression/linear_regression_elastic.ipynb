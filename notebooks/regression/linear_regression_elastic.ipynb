{
 "cells": [
  {
   "cell_type": "markdown",
   "id": "a6b56639-10ee-4f6d-8875-dfce8114f285",
   "metadata": {},
   "source": [
    "## Linear Regression Elastic\n"
   ]
  },
  {
   "cell_type": "code",
   "execution_count": 1,
   "id": "d9043f28-e331-4f85-a9e0-9d7589c03205",
   "metadata": {},
   "outputs": [],
   "source": [
    "#import bibliotecas\n",
    "\n",
    "import numpy as np\n",
    "import pandas as pd\n",
    "\n",
    "from sklearn import linear_model as lm\n",
    "from sklearn import metrics as mt"
   ]
  },
  {
   "cell_type": "markdown",
   "id": "873cbebd-4561-4b68-9f7c-b238dcd1d6b7",
   "metadata": {},
   "source": [
    "### Datasets"
   ]
  },
  {
   "cell_type": "code",
   "execution_count": 2,
   "id": "b99047c5-2509-483e-971e-6bb3e0cdfed0",
   "metadata": {},
   "outputs": [],
   "source": [
    "X_train = pd.read_csv('X_training.csv')\n",
    "y_train = pd.read_csv('y_training.csv') \n",
    "X_test = pd.read_csv('X_test.csv')\n",
    "y_test = pd.read_csv('y_test.csv')\n",
    "X_val = pd.read_csv('X_validation.csv')\n",
    "y_val = pd.read_csv('y_val.csv') "
   ]
  },
  {
   "cell_type": "code",
   "execution_count": 3,
   "id": "bf48ccbc-4bdb-4d03-ba2e-0f865c987ec4",
   "metadata": {},
   "outputs": [
    {
     "data": {
      "text/html": [
       "<div>\n",
       "<style scoped>\n",
       "    .dataframe tbody tr th:only-of-type {\n",
       "        vertical-align: middle;\n",
       "    }\n",
       "\n",
       "    .dataframe tbody tr th {\n",
       "        vertical-align: top;\n",
       "    }\n",
       "\n",
       "    .dataframe thead th {\n",
       "        text-align: right;\n",
       "    }\n",
       "</style>\n",
       "<table border=\"1\" class=\"dataframe\">\n",
       "  <thead>\n",
       "    <tr style=\"text-align: right;\">\n",
       "      <th></th>\n",
       "      <th>song_duration_ms</th>\n",
       "      <th>acousticness</th>\n",
       "      <th>danceability</th>\n",
       "      <th>energy</th>\n",
       "      <th>instrumentalness</th>\n",
       "      <th>key</th>\n",
       "      <th>liveness</th>\n",
       "      <th>loudness</th>\n",
       "      <th>audio_mode</th>\n",
       "      <th>speechiness</th>\n",
       "      <th>tempo</th>\n",
       "      <th>time_signature</th>\n",
       "      <th>audio_valence</th>\n",
       "    </tr>\n",
       "  </thead>\n",
       "  <tbody>\n",
       "    <tr>\n",
       "      <th>0</th>\n",
       "      <td>0.143252</td>\n",
       "      <td>0.025900</td>\n",
       "      <td>0.616</td>\n",
       "      <td>0.933</td>\n",
       "      <td>0.0000</td>\n",
       "      <td>0.000000</td>\n",
       "      <td>0.359</td>\n",
       "      <td>0.962307</td>\n",
       "      <td>0</td>\n",
       "      <td>0.0513</td>\n",
       "      <td>0.309853</td>\n",
       "      <td>0.8</td>\n",
       "      <td>0.806</td>\n",
       "    </tr>\n",
       "    <tr>\n",
       "      <th>1</th>\n",
       "      <td>0.363603</td>\n",
       "      <td>0.000188</td>\n",
       "      <td>0.490</td>\n",
       "      <td>0.972</td>\n",
       "      <td>0.0299</td>\n",
       "      <td>0.909091</td>\n",
       "      <td>0.368</td>\n",
       "      <td>0.765216</td>\n",
       "      <td>0</td>\n",
       "      <td>0.1110</td>\n",
       "      <td>-0.908089</td>\n",
       "      <td>0.8</td>\n",
       "      <td>0.376</td>\n",
       "    </tr>\n",
       "  </tbody>\n",
       "</table>\n",
       "</div>"
      ],
      "text/plain": [
       "   song_duration_ms  acousticness  danceability  energy  instrumentalness  \\\n",
       "0          0.143252      0.025900         0.616   0.933            0.0000   \n",
       "1          0.363603      0.000188         0.490   0.972            0.0299   \n",
       "\n",
       "        key  liveness  loudness  audio_mode  speechiness     tempo  \\\n",
       "0  0.000000     0.359  0.962307           0       0.0513  0.309853   \n",
       "1  0.909091     0.368  0.765216           0       0.1110 -0.908089   \n",
       "\n",
       "   time_signature  audio_valence  \n",
       "0             0.8          0.806  \n",
       "1             0.8          0.376  "
      ]
     },
     "execution_count": 3,
     "metadata": {},
     "output_type": "execute_result"
    }
   ],
   "source": [
    "X_val.head(2)"
   ]
  },
  {
   "cell_type": "code",
   "execution_count": 4,
   "id": "7376e015-fca6-4d91-9479-e841255d4bd4",
   "metadata": {},
   "outputs": [],
   "source": [
    "# preparação dos dados \n",
    "\n",
    "y_train = y_train.values.ravel()\n",
    "y_val = y_val.values.ravel()"
   ]
  },
  {
   "cell_type": "markdown",
   "id": "10e4a997-66bf-4efe-af0b-336097c3f55e",
   "metadata": {},
   "source": [
    "### Dados de Treino"
   ]
  },
  {
   "cell_type": "code",
   "execution_count": 5,
   "id": "9f1a078f-d6b7-4b50-aceb-479651778269",
   "metadata": {},
   "outputs": [
    {
     "name": "stdout",
     "output_type": "stream",
     "text": [
      "ALPHA: 1\n",
      "R2: 0.008\n",
      "MSE: 474.27\n",
      "RMSE: 21.78\n",
      "MAE: 17.3\n",
      "MAPE: 8.73%\n",
      " \n",
      "ALPHA: 2\n",
      "R2: 0.004\n",
      "MSE: 475.92\n",
      "RMSE: 21.82\n",
      "MAE: 17.33\n",
      "MAPE: 8.74%\n",
      " \n",
      "ALPHA: 3\n",
      "R2: 0.002\n",
      "MSE: 477.0\n",
      "RMSE: 21.84\n",
      "MAE: 17.35\n",
      "MAPE: 8.74%\n",
      " \n"
     ]
    }
   ],
   "source": [
    "values = np.arange(1,4)\n",
    "r2_list = []\n",
    "for i in values:\n",
    "    # definition\n",
    "    elastic_net = lm.ElasticNet( alpha = i , max_iter=100, l1_ratio=0.5)\n",
    "    \n",
    "    # fit\n",
    "    elastic_net.fit( X_train, y_train )\n",
    "    \n",
    "    # performance\n",
    "    ypred_test = elastic_net.predict( X_train )\n",
    "    \n",
    "    #R2\n",
    "    r2 = round(mt.r2_score( y_train , ypred_test),3)\n",
    "    r2_list.append(r2)\n",
    "    \n",
    "    #mse\n",
    "    mse = round(mt.mean_squared_error( y_train , ypred_test),2)\n",
    "    \n",
    "    #rmse \n",
    "    rmse = round(np.sqrt(mse),2)\n",
    "    \n",
    "    #mae\n",
    "    mae = np.round(mt.mean_absolute_error( y_train, ypred_test), 2)\n",
    "    \n",
    "    #mape\n",
    "    mape = np.round(mt.mean_absolute_percentage_error( y_train, ypred_test), 2) \n",
    "    \n",
    "    print( 'ALPHA: {}'.format(i))\n",
    "    print( 'R2: {}'.format(r2))\n",
    "    print ('MSE: {}'.format(mse))\n",
    "    print ('RMSE: {}'.format(rmse))\n",
    "    print('MAE: {}'.format( mae ))\n",
    "    print('MAPE: {}%'.format( mape ) )\n",
    "    print(' ')"
   ]
  },
  {
   "cell_type": "markdown",
   "id": "7ce8a739-29a6-4cd6-9674-3d3b9371f1c2",
   "metadata": {},
   "source": [
    "**melhor parâmetro:**"
   ]
  },
  {
   "cell_type": "code",
   "execution_count": 6,
   "id": "bf2af748-3eca-4dfa-b499-7f3efce90ffc",
   "metadata": {},
   "outputs": [
    {
     "data": {
      "text/plain": [
       "0"
      ]
     },
     "execution_count": 6,
     "metadata": {},
     "output_type": "execute_result"
    }
   ],
   "source": [
    "best_a = r2_list.index(max(r2_list))\n",
    "best_a"
   ]
  },
  {
   "cell_type": "markdown",
   "id": "2703e45f-c747-439b-9995-8f2da5d5450e",
   "metadata": {},
   "source": [
    "### Dados de Validação"
   ]
  },
  {
   "cell_type": "code",
   "execution_count": 7,
   "id": "974878b0-bace-445b-9b06-afea0b740bc7",
   "metadata": {},
   "outputs": [
    {
     "name": "stdout",
     "output_type": "stream",
     "text": [
      "R2: 0.008\n",
      "MSE: 473.64\n",
      "RMSE: 21.76\n",
      "MAE: 17.26\n",
      "MAPE: 8.69%\n"
     ]
    }
   ],
   "source": [
    "# definition\n",
    "elastic_net = lm.ElasticNet( alpha = values[best_a] , max_iter=100 , l1_ratio=0.5)\n",
    "\n",
    "# fit\n",
    "elastic_net.fit( X_train, y_train )\n",
    "\n",
    "# performance\n",
    "ypred_val = elastic_net.predict( X_val )\n",
    "\n",
    "#R2\n",
    "r2 = round(mt.r2_score( y_val , ypred_val),3)\n",
    "print( 'R2: {}'.format(r2))\n",
    "\n",
    "#mse\n",
    "mse = round(mt.mean_squared_error( y_val , ypred_val),2)\n",
    "print ('MSE: {}'.format(mse))\n",
    "\n",
    "#rmse \n",
    "rmse = round(np.sqrt(mse),2)\n",
    "print ('RMSE: {}'.format(rmse))\n",
    "\n",
    "#mae\n",
    "mae = np.round(mt.mean_absolute_error( y_val , ypred_val), 2)\n",
    "print('MAE: {}'.format( mae ))\n",
    "\n",
    "#mape\n",
    "mape = np.round(mt.mean_absolute_percentage_error( y_val , ypred_val), 2) \n",
    "print('MAPE: {}%'.format( mape ) )"
   ]
  },
  {
   "cell_type": "markdown",
   "id": "573b7535-6316-4e2f-83ce-9c8cd0580353",
   "metadata": {},
   "source": [
    "### Dados de Teste"
   ]
  },
  {
   "cell_type": "code",
   "execution_count": 8,
   "id": "147a89b2-8ad6-4457-bed7-f7c24c8ebaac",
   "metadata": {},
   "outputs": [
    {
     "name": "stdout",
     "output_type": "stream",
     "text": [
      "R2: 0.008\n",
      "MSE: 483.06\n",
      "RMSE: 21.98\n",
      "MAE: 17.47\n",
      "MAPE: 8.75%\n"
     ]
    },
    {
     "name": "stderr",
     "output_type": "stream",
     "text": [
      "\\\\?\\C:\\Users\\User\\AppData\\Roaming\\jupyterlab-desktop\\jlab_server\\Lib\\site-packages\\sklearn\\base.py:486: UserWarning: X has feature names, but ElasticNet was fitted without feature names\n",
      "  warnings.warn(\n"
     ]
    }
   ],
   "source": [
    "# definition\n",
    "elastic_net = lm.ElasticNet( alpha = values[best_a] , max_iter=100, l1_ratio=0.5)\n",
    "\n",
    "# fit\n",
    "elastic_net.fit(np.concatenate(( X_train ,X_val) ),\n",
    "          np.concatenate((y_train , y_val)))\n",
    "\n",
    "# performance\n",
    "ypred_test = elastic_net.predict( X_test )\n",
    "\n",
    "#R2\n",
    "r2 = round(mt.r2_score( y_test , ypred_test),3)\n",
    "print( 'R2: {}'.format(r2))\n",
    "\n",
    "#mse\n",
    "mse = round(mt.mean_squared_error( y_test , ypred_test),2)\n",
    "print ('MSE: {}'.format(mse))\n",
    "\n",
    "#rmse \n",
    "rmse = round(np.sqrt(mse),2)\n",
    "print ('RMSE: {}'.format(rmse))\n",
    "\n",
    "#mae\n",
    "mae = np.round(mt.mean_absolute_error(  y_test , ypred_test), 2)\n",
    "print('MAE: {}'.format( mae ))\n",
    "\n",
    "#mape\n",
    "mape = np.round(mt.mean_absolute_percentage_error( y_test, ypred_test), 2) \n",
    "print('MAPE: {}%'.format( mape ) )"
   ]
  }
 ],
 "metadata": {
  "kernelspec": {
   "display_name": "Python 3 (ipykernel)",
   "language": "python",
   "name": "python3"
  },
  "language_info": {
   "codemirror_mode": {
    "name": "ipython",
    "version": 3
   },
   "file_extension": ".py",
   "mimetype": "text/x-python",
   "name": "python",
   "nbconvert_exporter": "python",
   "pygments_lexer": "ipython3",
   "version": "3.12.3"
  }
 },
 "nbformat": 4,
 "nbformat_minor": 5
}
