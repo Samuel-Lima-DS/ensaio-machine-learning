{
 "cells": [
  {
   "cell_type": "markdown",
   "id": "a6b56639-10ee-4f6d-8875-dfce8114f285",
   "metadata": {},
   "source": [
    "## Decision Tree Regression "
   ]
  },
  {
   "cell_type": "code",
   "execution_count": 9,
   "id": "d9043f28-e331-4f85-a9e0-9d7589c03205",
   "metadata": {},
   "outputs": [],
   "source": [
    "#import bibliotecas\n",
    "\n",
    "import numpy as np\n",
    "import pandas as pd\n",
    "\n",
    "from sklearn import tree    as tr\n",
    "from sklearn import metrics as mt\n",
    "\n",
    "from matplotlib import pyplot as plt"
   ]
  },
  {
   "cell_type": "markdown",
   "id": "873cbebd-4561-4b68-9f7c-b238dcd1d6b7",
   "metadata": {},
   "source": [
    "### Datasets"
   ]
  },
  {
   "cell_type": "code",
   "execution_count": 3,
   "id": "b99047c5-2509-483e-971e-6bb3e0cdfed0",
   "metadata": {},
   "outputs": [],
   "source": [
    "X_train = pd.read_csv('X_training.csv')\n",
    "y_train = pd.read_csv('y_training.csv') \n",
    "X_test = pd.read_csv('X_test.csv')\n",
    "y_test = pd.read_csv('y_test.csv')\n",
    "X_val = pd.read_csv('X_validation.csv')\n",
    "y_val = pd.read_csv('y_val.csv') "
   ]
  },
  {
   "cell_type": "code",
   "execution_count": 4,
   "id": "bf48ccbc-4bdb-4d03-ba2e-0f865c987ec4",
   "metadata": {},
   "outputs": [
    {
     "data": {
      "text/html": [
       "<div>\n",
       "<style scoped>\n",
       "    .dataframe tbody tr th:only-of-type {\n",
       "        vertical-align: middle;\n",
       "    }\n",
       "\n",
       "    .dataframe tbody tr th {\n",
       "        vertical-align: top;\n",
       "    }\n",
       "\n",
       "    .dataframe thead th {\n",
       "        text-align: right;\n",
       "    }\n",
       "</style>\n",
       "<table border=\"1\" class=\"dataframe\">\n",
       "  <thead>\n",
       "    <tr style=\"text-align: right;\">\n",
       "      <th></th>\n",
       "      <th>song_duration_ms</th>\n",
       "      <th>acousticness</th>\n",
       "      <th>danceability</th>\n",
       "      <th>energy</th>\n",
       "      <th>instrumentalness</th>\n",
       "      <th>key</th>\n",
       "      <th>liveness</th>\n",
       "      <th>loudness</th>\n",
       "      <th>audio_mode</th>\n",
       "      <th>speechiness</th>\n",
       "      <th>tempo</th>\n",
       "      <th>time_signature</th>\n",
       "      <th>audio_valence</th>\n",
       "    </tr>\n",
       "  </thead>\n",
       "  <tbody>\n",
       "    <tr>\n",
       "      <th>0</th>\n",
       "      <td>0.143252</td>\n",
       "      <td>0.025900</td>\n",
       "      <td>0.616</td>\n",
       "      <td>0.933</td>\n",
       "      <td>0.0000</td>\n",
       "      <td>0.000000</td>\n",
       "      <td>0.359</td>\n",
       "      <td>0.962307</td>\n",
       "      <td>0</td>\n",
       "      <td>0.0513</td>\n",
       "      <td>0.309853</td>\n",
       "      <td>0.8</td>\n",
       "      <td>0.806</td>\n",
       "    </tr>\n",
       "    <tr>\n",
       "      <th>1</th>\n",
       "      <td>0.363603</td>\n",
       "      <td>0.000188</td>\n",
       "      <td>0.490</td>\n",
       "      <td>0.972</td>\n",
       "      <td>0.0299</td>\n",
       "      <td>0.909091</td>\n",
       "      <td>0.368</td>\n",
       "      <td>0.765216</td>\n",
       "      <td>0</td>\n",
       "      <td>0.1110</td>\n",
       "      <td>-0.908089</td>\n",
       "      <td>0.8</td>\n",
       "      <td>0.376</td>\n",
       "    </tr>\n",
       "  </tbody>\n",
       "</table>\n",
       "</div>"
      ],
      "text/plain": [
       "   song_duration_ms  acousticness  danceability  energy  instrumentalness  \\\n",
       "0          0.143252      0.025900         0.616   0.933            0.0000   \n",
       "1          0.363603      0.000188         0.490   0.972            0.0299   \n",
       "\n",
       "        key  liveness  loudness  audio_mode  speechiness     tempo  \\\n",
       "0  0.000000     0.359  0.962307           0       0.0513  0.309853   \n",
       "1  0.909091     0.368  0.765216           0       0.1110 -0.908089   \n",
       "\n",
       "   time_signature  audio_valence  \n",
       "0             0.8          0.806  \n",
       "1             0.8          0.376  "
      ]
     },
     "execution_count": 4,
     "metadata": {},
     "output_type": "execute_result"
    }
   ],
   "source": [
    "X_val.head(2)"
   ]
  },
  {
   "cell_type": "code",
   "execution_count": 5,
   "id": "7376e015-fca6-4d91-9479-e841255d4bd4",
   "metadata": {},
   "outputs": [],
   "source": [
    "# preparação dos dados \n",
    "\n",
    "y_train = y_train.values.ravel()\n",
    "y_val = y_val.values.ravel()"
   ]
  },
  {
   "cell_type": "markdown",
   "id": "10e4a997-66bf-4efe-af0b-336097c3f55e",
   "metadata": {},
   "source": [
    "### Dados de Treino"
   ]
  },
  {
   "cell_type": "code",
   "execution_count": 24,
   "id": "9f1a078f-d6b7-4b50-aceb-479651778269",
   "metadata": {},
   "outputs": [],
   "source": [
    "md_list = np.arange(2, 40, 1)\n",
    "rsme_list = []\n",
    "\n",
    "for i in md_list:\n",
    "    \n",
    "    # definition\n",
    "    model = tr.DecisionTreeRegressor(max_depth = i)\n",
    "\n",
    "    # fit\n",
    "    model.fit( X_train, y_train )\n",
    "\n",
    "    # performance\n",
    "    ypred_train = model.predict( X_train )\n",
    "\n",
    "    #rsme \n",
    "    mse = round(mt.mean_squared_error( y_train , ypred_train),2)\n",
    "    rmse = np.sqrt(mse)\n",
    "    rsme_list.append(rmse)\n"
   ]
  },
  {
   "cell_type": "code",
   "execution_count": 25,
   "id": "7bf2ea87-3989-47b8-9a8b-9438efb10db9",
   "metadata": {},
   "outputs": [
    {
     "data": {
      "image/png": "[encoded data removed]",
      "text/plain": [
       "<Figure size 640x480 with 1 Axes>"
      ]
     },
     "metadata": {},
     "output_type": "display_data"
    }
   ],
   "source": [
    "plt.plot( md_list, rsme_list, '-o', label='Validation' )\n",
    "plt.xlabel('max depth')\n",
    "plt.ylabel('RMSE')\n",
    "plt.legend()\n",
    "plt.show()"
   ]
  },
  {
   "cell_type": "markdown",
   "id": "464e1b79-8f95-44fb-a308-fadff265f1e3",
   "metadata": {},
   "source": [
    "**max_depth encontrado é:**"
   ]
  },
  {
   "cell_type": "code",
   "execution_count": 26,
   "id": "a70238a8-6a54-4717-bb0f-4d62f1ac292f",
   "metadata": {},
   "outputs": [
    {
     "data": {
      "text/plain": [
       "30"
      ]
     },
     "execution_count": 26,
     "metadata": {},
     "output_type": "execute_result"
    }
   ],
   "source": [
    "best_md = rsme_list.index(min(rsme_list))\n",
    "best_md "
   ]
  },
  {
   "cell_type": "code",
   "execution_count": 30,
   "id": "0f9af26a-5020-410c-bb79-9682d7ef9538",
   "metadata": {},
   "outputs": [
    {
     "name": "stdout",
     "output_type": "stream",
     "text": [
      "R2: 0.992\n",
      "MSE: 3.97\n",
      "RMSE: 1.99\n",
      "MAE: 0.23\n",
      "MAPE: 0.08%\n"
     ]
    }
   ],
   "source": [
    "# definition\n",
    "model = tr.DecisionTreeRegressor(max_depth = best_md)\n",
    "\n",
    "# fit\n",
    "model.fit( X_train, y_train )\n",
    "\n",
    "# performance\n",
    "ypred_train = model.predict( X_train )\n",
    "\n",
    "#R2 \n",
    "r2 = round(mt.r2_score( y_train , ypred_train),3)\n",
    "print( 'R2: {}'.format(r2))\n",
    "\n",
    "#mse \n",
    "mse = round(mt.mean_squared_error( y_train , ypred_train),2)\n",
    "print( 'MSE: {}'.format(mse))\n",
    "\n",
    "#rmse\n",
    "rmse = round(np.sqrt(mse),2)\n",
    "print( 'RMSE: {}'.format(rmse))\n",
    "\n",
    "#mae\n",
    "mae = np.round(mt.mean_absolute_error( y_train , ypred_train), 2)\n",
    "print('MAE: {}'.format( mae ))\n",
    "\n",
    "#mape\n",
    "mape = np.round(mt.mean_absolute_percentage_error( y_train , ypred_train), 2) \n",
    "print('MAPE: {}%'.format( mape ) )"
   ]
  },
  {
   "cell_type": "markdown",
   "id": "2703e45f-c747-439b-9995-8f2da5d5450e",
   "metadata": {},
   "source": [
    "### Dados de Validação"
   ]
  },
  {
   "cell_type": "code",
   "execution_count": 31,
   "id": "974878b0-bace-445b-9b06-afea0b740bc7",
   "metadata": {},
   "outputs": [
    {
     "name": "stdout",
     "output_type": "stream",
     "text": [
      "R2: -0.292\n",
      "MSE: 617.1\n",
      "RMSE: 24.84\n",
      "MAE: 17.14\n",
      "MAPE: 6.87%\n"
     ]
    }
   ],
   "source": [
    "# definition\n",
    "model = tr.DecisionTreeRegressor(max_depth = best_md)\n",
    "\n",
    "# fit\n",
    "model.fit( X_train, y_train )\n",
    "\n",
    "# performance\n",
    "ypred_val = model.predict( X_val )\n",
    "\n",
    "#R2\n",
    "r2 = round(mt.r2_score( y_val , ypred_val),3)\n",
    "print( 'R2: {}'.format(r2))\n",
    "\n",
    "#mse\n",
    "mse = round(mt.mean_squared_error( y_val , ypred_val),2)\n",
    "print ('MSE: {}'.format(mse))\n",
    "\n",
    "#rmse \n",
    "rmse = round(np.sqrt(mse),2)\n",
    "print ('RMSE: {}'.format(rmse))\n",
    "\n",
    "#mae\n",
    "mae = np.round(mt.mean_absolute_error( y_val , ypred_val), 2)\n",
    "print('MAE: {}'.format( mae ))\n",
    "\n",
    "#mape\n",
    "mape = np.round(mt.mean_absolute_percentage_error( y_val , ypred_val), 2) \n",
    "print('MAPE: {}%'.format( mape ) )"
   ]
  },
  {
   "cell_type": "markdown",
   "id": "573b7535-6316-4e2f-83ce-9c8cd0580353",
   "metadata": {},
   "source": [
    "### Dados de Teste"
   ]
  },
  {
   "cell_type": "code",
   "execution_count": 32,
   "id": "147a89b2-8ad6-4457-bed7-f7c24c8ebaac",
   "metadata": {},
   "outputs": [
    {
     "name": "stdout",
     "output_type": "stream",
     "text": [
      "R2: -0.184\n",
      "MSE: 576.7\n",
      "RMSE: 24.01\n",
      "MAE: 15.94\n",
      "MAPE: 6.12%\n"
     ]
    },
    {
     "name": "stderr",
     "output_type": "stream",
     "text": [
      "\\\\?\\C:\\Users\\User\\AppData\\Roaming\\jupyterlab-desktop\\jlab_server\\Lib\\site-packages\\sklearn\\base.py:486: UserWarning: X has feature names, but DecisionTreeRegressor was fitted without feature names\n",
      "  warnings.warn(\n"
     ]
    }
   ],
   "source": [
    "# definition\n",
    "model = tr.DecisionTreeRegressor(max_depth = best_md)\n",
    "\n",
    "# fit\n",
    "model.fit(np.concatenate(( X_train ,X_val) ),\n",
    "          np.concatenate((y_train , y_val)))\n",
    "\n",
    "# performance\n",
    "ypred_test = model.predict( X_test )\n",
    "\n",
    "#R2\n",
    "r2 = round(mt.r2_score( y_test , ypred_test),3)\n",
    "print( 'R2: {}'.format(r2))\n",
    "\n",
    "#mse\n",
    "mse = round(mt.mean_squared_error( y_test , ypred_test),2)\n",
    "print ('MSE: {}'.format(mse))\n",
    "\n",
    "#rmse \n",
    "rmse = round(np.sqrt(mse),2)\n",
    "print ('RMSE: {}'.format(rmse))\n",
    "\n",
    "#mae\n",
    "mae = np.round(mt.mean_absolute_error(  y_test , ypred_test), 2)\n",
    "print('MAE: {}'.format( mae ))\n",
    "\n",
    "#mape\n",
    "mape = np.round(mt.mean_absolute_percentage_error( y_test, ypred_test), 2) \n",
    "print('MAPE: {}%'.format( mape ) )"
   ]
  }
 ],
 "metadata": {
  "kernelspec": {
   "display_name": "Python 3 (ipykernel)",
   "language": "python",
   "name": "python3"
  },
  "language_info": {
   "codemirror_mode": {
    "name": "ipython",
    "version": 3
   },
   "file_extension": ".py",
   "mimetype": "text/x-python",
   "name": "python",
   "nbconvert_exporter": "python",
   "pygments_lexer": "ipython3",
   "version": "3.12.3"
  }
 },
 "nbformat": 4,
 "nbformat_minor": 5
}
