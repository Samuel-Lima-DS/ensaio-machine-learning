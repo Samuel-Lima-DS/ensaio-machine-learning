{
 "cells": [
  {
   "cell_type": "markdown",
   "id": "66ad290c-ffea-45c7-b92d-f0f8b09e1228",
   "metadata": {},
   "source": [
    "## Random Forest"
   ]
  },
  {
   "cell_type": "code",
   "execution_count": 1,
   "id": "9a03921e-d866-4ea1-841d-38ed40ef5824",
   "metadata": {},
   "outputs": [],
   "source": [
    "#import bibliotecas\n",
    "\n",
    "import numpy as np\n",
    "import pandas as pd\n",
    "\n",
    "from sklearn import ensemble  as en\n",
    "from sklearn import metrics   as mt\n",
    "\n",
    "from matplotlib import pyplot as plt"
   ]
  },
  {
   "cell_type": "markdown",
   "id": "7167ff35-2a97-42fb-80be-5a851ee1ea2f",
   "metadata": {},
   "source": [
    "### Datasets"
   ]
  },
  {
   "cell_type": "code",
   "execution_count": 2,
   "id": "b85718ff-594b-4c66-87dc-54821e1d1cd2",
   "metadata": {},
   "outputs": [],
   "source": [
    "X_train = pd.read_csv('X_training.csv')\n",
    "y_train = pd.read_csv('y_training.csv') \n",
    "X_test = pd.read_csv('X_test.csv')\n",
    "y_test = pd.read_csv('y_test.csv')\n",
    "X_val = pd.read_csv('X_validation.csv')\n",
    "y_val = pd.read_csv('y_val.csv') "
   ]
  },
  {
   "cell_type": "code",
   "execution_count": 10,
   "id": "1596a6ce-760a-4346-b2ba-b1d6c48ad518",
   "metadata": {},
   "outputs": [
    {
     "data": {
      "text/html": [
       "<div>\n",
       "<style scoped>\n",
       "    .dataframe tbody tr th:only-of-type {\n",
       "        vertical-align: middle;\n",
       "    }\n",
       "\n",
       "    .dataframe tbody tr th {\n",
       "        vertical-align: top;\n",
       "    }\n",
       "\n",
       "    .dataframe thead th {\n",
       "        text-align: right;\n",
       "    }\n",
       "</style>\n",
       "<table border=\"1\" class=\"dataframe\">\n",
       "  <thead>\n",
       "    <tr style=\"text-align: right;\">\n",
       "      <th></th>\n",
       "      <th>song_duration_ms</th>\n",
       "      <th>acousticness</th>\n",
       "      <th>danceability</th>\n",
       "      <th>energy</th>\n",
       "      <th>instrumentalness</th>\n",
       "      <th>key</th>\n",
       "      <th>liveness</th>\n",
       "      <th>loudness</th>\n",
       "      <th>audio_mode</th>\n",
       "      <th>speechiness</th>\n",
       "      <th>tempo</th>\n",
       "      <th>time_signature</th>\n",
       "      <th>audio_valence</th>\n",
       "    </tr>\n",
       "  </thead>\n",
       "  <tbody>\n",
       "    <tr>\n",
       "      <th>0</th>\n",
       "      <td>0.143252</td>\n",
       "      <td>0.025900</td>\n",
       "      <td>0.616</td>\n",
       "      <td>0.933</td>\n",
       "      <td>0.0000</td>\n",
       "      <td>0.000000</td>\n",
       "      <td>0.359</td>\n",
       "      <td>0.962307</td>\n",
       "      <td>0</td>\n",
       "      <td>0.0513</td>\n",
       "      <td>0.309853</td>\n",
       "      <td>0.8</td>\n",
       "      <td>0.806</td>\n",
       "    </tr>\n",
       "    <tr>\n",
       "      <th>1</th>\n",
       "      <td>0.363603</td>\n",
       "      <td>0.000188</td>\n",
       "      <td>0.490</td>\n",
       "      <td>0.972</td>\n",
       "      <td>0.0299</td>\n",
       "      <td>0.909091</td>\n",
       "      <td>0.368</td>\n",
       "      <td>0.765216</td>\n",
       "      <td>0</td>\n",
       "      <td>0.1110</td>\n",
       "      <td>-0.908089</td>\n",
       "      <td>0.8</td>\n",
       "      <td>0.376</td>\n",
       "    </tr>\n",
       "  </tbody>\n",
       "</table>\n",
       "</div>"
      ],
      "text/plain": [
       "   song_duration_ms  acousticness  danceability  energy  instrumentalness  \\\n",
       "0          0.143252      0.025900         0.616   0.933            0.0000   \n",
       "1          0.363603      0.000188         0.490   0.972            0.0299   \n",
       "\n",
       "        key  liveness  loudness  audio_mode  speechiness     tempo  \\\n",
       "0  0.000000     0.359  0.962307           0       0.0513  0.309853   \n",
       "1  0.909091     0.368  0.765216           0       0.1110 -0.908089   \n",
       "\n",
       "   time_signature  audio_valence  \n",
       "0             0.8          0.806  \n",
       "1             0.8          0.376  "
      ]
     },
     "execution_count": 10,
     "metadata": {},
     "output_type": "execute_result"
    }
   ],
   "source": [
    "X_val.head(2)"
   ]
  },
  {
   "cell_type": "code",
   "execution_count": 3,
   "id": "397cf680-c19e-43b9-b371-8614378c0933",
   "metadata": {},
   "outputs": [],
   "source": [
    "# preparação dos dados \n",
    "\n",
    "y_train = y_train.values.ravel()\n",
    "y_val = y_val.values.ravel()"
   ]
  },
  {
   "cell_type": "markdown",
   "id": "ca8bc599-ec53-4a6b-8f9e-ba56f74ac0b1",
   "metadata": {},
   "source": [
    "### Dados de Treino"
   ]
  },
  {
   "cell_type": "code",
   "execution_count": 13,
   "id": "e47da413-dda4-4e23-9019-9a5b452fc4c1",
   "metadata": {},
   "outputs": [
    {
     "data": {
      "text/plain": [
       "array([ 2,  3,  4,  5,  6,  7,  8,  9, 10, 11, 12, 13, 14, 15, 16, 17, 18,\n",
       "       19, 20, 21, 22, 23, 24, 25, 26, 27, 28, 29, 30, 31, 32, 33, 34, 35,\n",
       "       36, 37, 38, 39])"
      ]
     },
     "execution_count": 13,
     "metadata": {},
     "output_type": "execute_result"
    }
   ],
   "source": [
    "np.arange(2,40,1)"
   ]
  },
  {
   "cell_type": "code",
   "execution_count": 4,
   "id": "5d472e8e-1e43-4c5a-b68b-6defd269acee",
   "metadata": {},
   "outputs": [],
   "source": [
    "md_list = np.arange(2,40,1)\n",
    "rsme_list = []\n",
    "\n",
    "for i in md_list:\n",
    "    # define\n",
    "    model = en.RandomForestRegressor( n_estimators = 50 , max_depth= i)\n",
    "    \n",
    "    # fit\n",
    "    model.fit (X_train , y_train)\n",
    "    \n",
    "    #performance\n",
    "    ypred = model.predict(X_train)\n",
    "        \n",
    "    #rsme \n",
    "    mse = round(mt.mean_squared_error( y_train , ypred),2)\n",
    "    rmse = np.sqrt(mse)\n",
    "    rsme_list.append(rmse)"
   ]
  },
  {
   "cell_type": "code",
   "execution_count": 5,
   "id": "c9ea38d9-8544-4b11-a5eb-9309b106f598",
   "metadata": {},
   "outputs": [
    {
     "data": {
      "image/png": "[encoded data removed]",
      "text/plain": [
       "<Figure size 640x480 with 1 Axes>"
      ]
     },
     "metadata": {},
     "output_type": "display_data"
    }
   ],
   "source": [
    "plt.plot( md_list, rsme_list, '-o', label='Validation' )\n",
    "plt.xlabel('max depth')\n",
    "plt.ylabel('RMSE')\n",
    "plt.legend()\n",
    "plt.show()"
   ]
  },
  {
   "cell_type": "markdown",
   "id": "a0d1d8b7-95a5-4bd4-96ac-e0ad3cd110ef",
   "metadata": {},
   "source": [
    "**definindo maxdepth:**"
   ]
  },
  {
   "cell_type": "code",
   "execution_count": 6,
   "id": "46cc921d-64a5-43dc-9ce1-bee6ec387717",
   "metadata": {},
   "outputs": [
    {
     "data": {
      "text/plain": [
       "31"
      ]
     },
     "execution_count": 6,
     "metadata": {},
     "output_type": "execute_result"
    }
   ],
   "source": [
    "best_md = rsme_list.index(min(rsme_list))\n",
    "best_md"
   ]
  },
  {
   "cell_type": "code",
   "execution_count": 7,
   "id": "7798999d-ebda-4242-94df-c501222b157c",
   "metadata": {},
   "outputs": [
    {
     "name": "stdout",
     "output_type": "stream",
     "text": [
      "R2: 0.898\n",
      "MSE: 48.53\n",
      "RMSE: 6.97\n",
      "MAE: 4.94\n",
      "MAPE: 2.59%\n"
     ]
    }
   ],
   "source": [
    "#define\n",
    "model = en.RandomForestRegressor(n_estimators = 50 , max_depth = best_md)\n",
    "\n",
    "#fit\n",
    "model.fit(X_train, y_train)\n",
    "\n",
    "#perfomance\n",
    "ypred_train = model.predict (X_train)\n",
    "\n",
    "#R2 \n",
    "r2 = round(mt.r2_score( y_train , ypred_train),3)\n",
    "print( 'R2: {}'.format(r2))\n",
    "\n",
    "#mse \n",
    "mse = round(mt.mean_squared_error( y_train , ypred_train),2)\n",
    "print( 'MSE: {}'.format(mse))\n",
    "\n",
    "#rmse\n",
    "rmse = round(np.sqrt(mse),2)\n",
    "print( 'RMSE: {}'.format(rmse))\n",
    "\n",
    "#mae\n",
    "mae = np.round(mt.mean_absolute_error( y_train , ypred_train), 2)\n",
    "print('MAE: {}'.format( mae ))\n",
    "\n",
    "#mape\n",
    "mape = np.round(mt.mean_absolute_percentage_error( y_train , ypred_train), 2) \n",
    "print('MAPE: {}%'.format( mape ) )\n",
    "\n"
   ]
  },
  {
   "cell_type": "markdown",
   "id": "aaea9dee-f1a6-4c33-9df0-59606ae3c88e",
   "metadata": {},
   "source": [
    "### Dados de Validação"
   ]
  },
  {
   "cell_type": "code",
   "execution_count": 8,
   "id": "3e0d612d-18ac-407a-8825-fb107bb8529e",
   "metadata": {},
   "outputs": [
    {
     "name": "stdout",
     "output_type": "stream",
     "text": [
      "R2: 0.324\n",
      "MSE: 322.89\n",
      "RMSE: 17.97\n",
      "MAE: 13.1\n",
      "MAPE: 7.06%\n"
     ]
    }
   ],
   "source": [
    "#define\n",
    "model = en.RandomForestRegressor(n_estimators = 50 , max_depth = best_md)\n",
    "\n",
    "#fit\n",
    "model.fit(X_train, y_train)\n",
    "\n",
    "#perfomance\n",
    "ypred_val = model.predict (X_val)\n",
    "\n",
    "#R2 \n",
    "r2 = round(mt.r2_score( y_val , ypred_val),3)\n",
    "print( 'R2: {}'.format(r2))\n",
    "\n",
    "#mse \n",
    "mse = round(mt.mean_squared_error( y_val , ypred_val),2)\n",
    "print( 'MSE: {}'.format(mse))\n",
    "\n",
    "#rmse\n",
    "rmse = round(np.sqrt(mse),2)\n",
    "print( 'RMSE: {}'.format(rmse))\n",
    "\n",
    "#mae\n",
    "mae = np.round(mt.mean_absolute_error( y_val , ypred_val), 2)\n",
    "print('MAE: {}'.format( mae ))\n",
    "\n",
    "#mape\n",
    "mape = np.round(mt.mean_absolute_percentage_error( y_val , ypred_val), 2) \n",
    "print('MAPE: {}%'.format( mape ) )\n"
   ]
  },
  {
   "cell_type": "markdown",
   "id": "ff09ff6e-b93c-4cab-91ae-d14ee51a7505",
   "metadata": {},
   "source": [
    "### Dados de Teste"
   ]
  },
  {
   "cell_type": "code",
   "execution_count": 27,
   "id": "b40c57e1-49fc-457f-9f0d-3f2db235ccf0",
   "metadata": {},
   "outputs": [
    {
     "name": "stdout",
     "output_type": "stream",
     "text": [
      "R2: 0.397\n",
      "MSE: 293.66\n",
      "RMSE: 17.14\n",
      "MAE: 12.34\n",
      "MAPE: 6.35%\n"
     ]
    },
    {
     "name": "stderr",
     "output_type": "stream",
     "text": [
      "\\\\?\\C:\\Users\\User\\AppData\\Roaming\\jupyterlab-desktop\\jlab_server\\Lib\\site-packages\\sklearn\\base.py:486: UserWarning: X has feature names, but RandomForestRegressor was fitted without feature names\n",
      "  warnings.warn(\n"
     ]
    }
   ],
   "source": [
    "#define\n",
    "model = en.RandomForestRegressor(n_estimators = 50 , max_depth = best_md)\n",
    "\n",
    "#fit\n",
    "model.fit(np.concatenate((X_train, X_val)),\n",
    "           np.concatenate((y_train, y_val)))\n",
    "\n",
    "#perfomance\n",
    "ypred_test = model.predict (X_test)\n",
    "\n",
    "#R2 \n",
    "r2 = round(mt.r2_score( y_test , ypred_test),3)\n",
    "print( 'R2: {}'.format(r2))\n",
    "\n",
    "#mse \n",
    "mse = round(mt.mean_squared_error( y_test , ypred_test),2)\n",
    "print( 'MSE: {}'.format(mse))\n",
    "\n",
    "#rmse\n",
    "rmse = round(np.sqrt(mse),2)\n",
    "print( 'RMSE: {}'.format(rmse))\n",
    "\n",
    "#mae\n",
    "mae = np.round(mt.mean_absolute_error( y_test , ypred_test), 2)\n",
    "print('MAE: {}'.format( mae ))\n",
    "\n",
    "#mape\n",
    "mape = np.round(mt.mean_absolute_percentage_error( y_test , ypred_test), 2) \n",
    "print('MAPE: {}%'.format( mape ) )"
   ]
  }
 ],
 "metadata": {
  "kernelspec": {
   "display_name": "Python 3 (ipykernel)",
   "language": "python",
   "name": "python3"
  },
  "language_info": {
   "codemirror_mode": {
    "name": "ipython",
    "version": 3
   },
   "file_extension": ".py",
   "mimetype": "text/x-python",
   "name": "python",
   "nbconvert_exporter": "python",
   "pygments_lexer": "ipython3",
   "version": "3.12.3"
  }
 },
 "nbformat": 4,
 "nbformat_minor": 5
}
