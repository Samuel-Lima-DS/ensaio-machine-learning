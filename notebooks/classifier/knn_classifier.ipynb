{
 "cells": [
  {
   "cell_type": "markdown",
   "id": "c7652173-82e7-4dec-9ba5-d73f8f060b03",
   "metadata": {},
   "source": [
    "## KNN Classifier"
   ]
  },
  {
   "cell_type": "code",
   "execution_count": 1,
   "id": "d801e2dd-cd5b-449d-bda1-ae89edf32fa7",
   "metadata": {},
   "outputs": [],
   "source": [
    "#import bibliotecas\n",
    "\n",
    "import numpy as np\n",
    "import pandas as pd\n",
    "\n",
    "from sklearn.neighbors import KNeighborsClassifier\n",
    "from sklearn import metrics as mt"
   ]
  },
  {
   "cell_type": "markdown",
   "id": "6502089f-ac8f-4bd3-9b80-c7248869c20b",
   "metadata": {},
   "source": [
    "### Load Datasets"
   ]
  },
  {
   "cell_type": "code",
   "execution_count": 2,
   "id": "fd3a6e56-fd9c-4c4a-9840-c88e7260db3d",
   "metadata": {},
   "outputs": [],
   "source": [
    "X_train = pd.read_csv('X_training.csv')\n",
    "y_train = pd.read_csv('y_training.csv') \n",
    "X_test = pd.read_csv('X_test.csv')\n",
    "y_test = pd.read_csv('y_test.csv')\n",
    "X_val = pd.read_csv('X_validation.csv')\n",
    "y_val = pd.read_csv('y_validation.csv') "
   ]
  },
  {
   "cell_type": "code",
   "execution_count": 3,
   "id": "fdddab45-d6fe-4d46-b3cf-7129f0baf7f1",
   "metadata": {},
   "outputs": [
    {
     "data": {
      "text/html": [
       "<div>\n",
       "<style scoped>\n",
       "    .dataframe tbody tr th:only-of-type {\n",
       "        vertical-align: middle;\n",
       "    }\n",
       "\n",
       "    .dataframe tbody tr th {\n",
       "        vertical-align: top;\n",
       "    }\n",
       "\n",
       "    .dataframe thead th {\n",
       "        text-align: right;\n",
       "    }\n",
       "</style>\n",
       "<table border=\"1\" class=\"dataframe\">\n",
       "  <thead>\n",
       "    <tr style=\"text-align: right;\">\n",
       "      <th></th>\n",
       "      <th>id</th>\n",
       "      <th>customer_type</th>\n",
       "      <th>age</th>\n",
       "      <th>class</th>\n",
       "      <th>flight_distance</th>\n",
       "      <th>inflight_wifi_service</th>\n",
       "      <th>departure_arrival_time_convenient</th>\n",
       "      <th>ease_of_online_booking</th>\n",
       "      <th>gate_location</th>\n",
       "      <th>food_and_drink</th>\n",
       "      <th>...</th>\n",
       "      <th>baggage_handling</th>\n",
       "      <th>checkin_service</th>\n",
       "      <th>inflight_service</th>\n",
       "      <th>cleanliness</th>\n",
       "      <th>departure_delay_in_minutes</th>\n",
       "      <th>arrival_delay_in_minutes</th>\n",
       "      <th>gender_Female</th>\n",
       "      <th>gender_Male</th>\n",
       "      <th>type_of_travel_business_travel</th>\n",
       "      <th>type_of_travel_personal_travel</th>\n",
       "    </tr>\n",
       "  </thead>\n",
       "  <tbody>\n",
       "    <tr>\n",
       "      <th>0</th>\n",
       "      <td>13508</td>\n",
       "      <td>1</td>\n",
       "      <td>0.50000</td>\n",
       "      <td>0.0</td>\n",
       "      <td>0.039580</td>\n",
       "      <td>0.6</td>\n",
       "      <td>0.6</td>\n",
       "      <td>0.6</td>\n",
       "      <td>0.6</td>\n",
       "      <td>1.0</td>\n",
       "      <td>...</td>\n",
       "      <td>0.5</td>\n",
       "      <td>1.0</td>\n",
       "      <td>0.6</td>\n",
       "      <td>0.4</td>\n",
       "      <td>0.0</td>\n",
       "      <td>0.013848</td>\n",
       "      <td>1.0</td>\n",
       "      <td>0.0</td>\n",
       "      <td>1.0</td>\n",
       "      <td>0.0</td>\n",
       "    </tr>\n",
       "    <tr>\n",
       "      <th>1</th>\n",
       "      <td>28874</td>\n",
       "      <td>1</td>\n",
       "      <td>0.24359</td>\n",
       "      <td>0.0</td>\n",
       "      <td>0.205775</td>\n",
       "      <td>0.6</td>\n",
       "      <td>0.4</td>\n",
       "      <td>0.4</td>\n",
       "      <td>0.4</td>\n",
       "      <td>0.6</td>\n",
       "      <td>...</td>\n",
       "      <td>0.5</td>\n",
       "      <td>0.5</td>\n",
       "      <td>0.2</td>\n",
       "      <td>0.6</td>\n",
       "      <td>0.0</td>\n",
       "      <td>0.000000</td>\n",
       "      <td>0.0</td>\n",
       "      <td>1.0</td>\n",
       "      <td>1.0</td>\n",
       "      <td>0.0</td>\n",
       "    </tr>\n",
       "  </tbody>\n",
       "</table>\n",
       "<p>2 rows × 25 columns</p>\n",
       "</div>"
      ],
      "text/plain": [
       "      id  customer_type      age  class  flight_distance  \\\n",
       "0  13508              1  0.50000    0.0         0.039580   \n",
       "1  28874              1  0.24359    0.0         0.205775   \n",
       "\n",
       "   inflight_wifi_service  departure_arrival_time_convenient  \\\n",
       "0                    0.6                                0.6   \n",
       "1                    0.6                                0.4   \n",
       "\n",
       "   ease_of_online_booking  gate_location  food_and_drink  ...  \\\n",
       "0                     0.6            0.6             1.0  ...   \n",
       "1                     0.4            0.4             0.6  ...   \n",
       "\n",
       "   baggage_handling  checkin_service  inflight_service  cleanliness  \\\n",
       "0               0.5              1.0               0.6          0.4   \n",
       "1               0.5              0.5               0.2          0.6   \n",
       "\n",
       "   departure_delay_in_minutes  arrival_delay_in_minutes  gender_Female  \\\n",
       "0                         0.0                  0.013848            1.0   \n",
       "1                         0.0                  0.000000            0.0   \n",
       "\n",
       "   gender_Male  type_of_travel_business_travel  type_of_travel_personal_travel  \n",
       "0          0.0                             1.0                             0.0  \n",
       "1          1.0                             1.0                             0.0  \n",
       "\n",
       "[2 rows x 25 columns]"
      ]
     },
     "execution_count": 3,
     "metadata": {},
     "output_type": "execute_result"
    }
   ],
   "source": [
    "X_train.head(2)"
   ]
  },
  {
   "cell_type": "markdown",
   "id": "a718280d-3cd4-448d-9f75-26a3fbf39316",
   "metadata": {},
   "source": [
    "### Dados de Treino"
   ]
  },
  {
   "cell_type": "code",
   "execution_count": 4,
   "id": "9152af42-d552-4440-839a-a0e9fc19c7e9",
   "metadata": {},
   "outputs": [],
   "source": [
    "# preparação dos dados \n",
    "\n",
    "y_train = y_train.values.ravel()\n",
    "y_val = y_val.values.ravel()"
   ]
  },
  {
   "cell_type": "markdown",
   "id": "c8242196-efe6-470a-a1eb-677b8de79fb8",
   "metadata": {},
   "source": [
    "**Remover a coluna do ID dos datasets pois não é uma coluna categórica**"
   ]
  },
  {
   "cell_type": "code",
   "execution_count": 5,
   "id": "c6148814-2696-462b-9e92-acc5142785c9",
   "metadata": {},
   "outputs": [],
   "source": [
    "X_train = X_train.drop(['id'] , axis =1)\n",
    "X_test = X_test.drop(['id'] , axis =1)\n",
    "X_val = X_val.drop(['id'] , axis =1)"
   ]
  },
  {
   "cell_type": "code",
   "execution_count": 6,
   "id": "e7955fc7-1a7c-4d6f-8e6a-8fb6c4b9556c",
   "metadata": {},
   "outputs": [
    {
     "data": {
      "text/html": [
       "<div>\n",
       "<style scoped>\n",
       "    .dataframe tbody tr th:only-of-type {\n",
       "        vertical-align: middle;\n",
       "    }\n",
       "\n",
       "    .dataframe tbody tr th {\n",
       "        vertical-align: top;\n",
       "    }\n",
       "\n",
       "    .dataframe thead th {\n",
       "        text-align: right;\n",
       "    }\n",
       "</style>\n",
       "<table border=\"1\" class=\"dataframe\">\n",
       "  <thead>\n",
       "    <tr style=\"text-align: right;\">\n",
       "      <th></th>\n",
       "      <th>customer_type</th>\n",
       "      <th>age</th>\n",
       "      <th>class</th>\n",
       "      <th>flight_distance</th>\n",
       "      <th>inflight_wifi_service</th>\n",
       "      <th>departure_arrival_time_convenient</th>\n",
       "      <th>ease_of_online_booking</th>\n",
       "      <th>gate_location</th>\n",
       "      <th>food_and_drink</th>\n",
       "      <th>online_boarding</th>\n",
       "      <th>...</th>\n",
       "      <th>baggage_handling</th>\n",
       "      <th>checkin_service</th>\n",
       "      <th>inflight_service</th>\n",
       "      <th>cleanliness</th>\n",
       "      <th>departure_delay_in_minutes</th>\n",
       "      <th>arrival_delay_in_minutes</th>\n",
       "      <th>gender_Female</th>\n",
       "      <th>gender_Male</th>\n",
       "      <th>type_of_travel_business_travel</th>\n",
       "      <th>type_of_travel_personal_travel</th>\n",
       "    </tr>\n",
       "  </thead>\n",
       "  <tbody>\n",
       "    <tr>\n",
       "      <th>0</th>\n",
       "      <td>1</td>\n",
       "      <td>0.525641</td>\n",
       "      <td>1.0</td>\n",
       "      <td>0.714055</td>\n",
       "      <td>1.0</td>\n",
       "      <td>1.0</td>\n",
       "      <td>1.0</td>\n",
       "      <td>1.0</td>\n",
       "      <td>0.8</td>\n",
       "      <td>0.8</td>\n",
       "      <td>...</td>\n",
       "      <td>0.75</td>\n",
       "      <td>0.75</td>\n",
       "      <td>0.8</td>\n",
       "      <td>0.8</td>\n",
       "      <td>0.000000</td>\n",
       "      <td>0.000000</td>\n",
       "      <td>0.0</td>\n",
       "      <td>1.0</td>\n",
       "      <td>1.0</td>\n",
       "      <td>0.0</td>\n",
       "    </tr>\n",
       "    <tr>\n",
       "      <th>1</th>\n",
       "      <td>1</td>\n",
       "      <td>0.615385</td>\n",
       "      <td>1.0</td>\n",
       "      <td>0.054725</td>\n",
       "      <td>0.4</td>\n",
       "      <td>1.0</td>\n",
       "      <td>1.0</td>\n",
       "      <td>1.0</td>\n",
       "      <td>0.4</td>\n",
       "      <td>0.4</td>\n",
       "      <td>...</td>\n",
       "      <td>0.25</td>\n",
       "      <td>0.00</td>\n",
       "      <td>0.4</td>\n",
       "      <td>0.6</td>\n",
       "      <td>0.004916</td>\n",
       "      <td>0.004946</td>\n",
       "      <td>0.0</td>\n",
       "      <td>1.0</td>\n",
       "      <td>1.0</td>\n",
       "      <td>0.0</td>\n",
       "    </tr>\n",
       "  </tbody>\n",
       "</table>\n",
       "<p>2 rows × 24 columns</p>\n",
       "</div>"
      ],
      "text/plain": [
       "   customer_type       age  class  flight_distance  inflight_wifi_service  \\\n",
       "0              1  0.525641    1.0         0.714055                    1.0   \n",
       "1              1  0.615385    1.0         0.054725                    0.4   \n",
       "\n",
       "   departure_arrival_time_convenient  ease_of_online_booking  gate_location  \\\n",
       "0                                1.0                     1.0            1.0   \n",
       "1                                1.0                     1.0            1.0   \n",
       "\n",
       "   food_and_drink  online_boarding  ...  baggage_handling  checkin_service  \\\n",
       "0             0.8              0.8  ...              0.75             0.75   \n",
       "1             0.4              0.4  ...              0.25             0.00   \n",
       "\n",
       "   inflight_service  cleanliness  departure_delay_in_minutes  \\\n",
       "0               0.8          0.8                    0.000000   \n",
       "1               0.4          0.6                    0.004916   \n",
       "\n",
       "   arrival_delay_in_minutes  gender_Female  gender_Male  \\\n",
       "0                  0.000000            0.0          1.0   \n",
       "1                  0.004946            0.0          1.0   \n",
       "\n",
       "   type_of_travel_business_travel  type_of_travel_personal_travel  \n",
       "0                             1.0                             0.0  \n",
       "1                             1.0                             0.0  \n",
       "\n",
       "[2 rows x 24 columns]"
      ]
     },
     "execution_count": 6,
     "metadata": {},
     "output_type": "execute_result"
    }
   ],
   "source": [
    "X_val.head(2)"
   ]
  },
  {
   "cell_type": "code",
   "execution_count": 7,
   "id": "ae79dd25-2abe-4c02-9a6f-2b041b6adc77",
   "metadata": {},
   "outputs": [
    {
     "name": "stdout",
     "output_type": "stream",
     "text": [
      "Numero de K:3\n",
      "Accuracy: 0.9570157898365855 \n",
      "Precision:0.9731907070031757 \n",
      "Recall:0.9263395698103601 \n",
      "F1-Score:0.9491873563405767 \n",
      "\n",
      "Numero de K:5\n",
      "Accuracy: 0.9475832586361442 \n",
      "Precision:0.9700867789688616 \n",
      "Recall:0.9070255822833142 \n",
      "F1-Score:0.9374969167776627 \n",
      "\n",
      "Numero de K:7\n",
      "Accuracy: 0.943018685789147 \n",
      "Precision:0.9685847696216439 \n",
      "Recall:0.8976390479826906 \n",
      "F1-Score:0.9317633847474981 \n",
      "\n",
      "Numero de K:9\n",
      "Accuracy: 0.9395573329655933 \n",
      "Precision:0.9678580078192576 \n",
      "Recall:0.8900980017818506 \n",
      "F1-Score:0.9273507815219373 \n",
      "\n",
      "Numero de K:11\n",
      "Accuracy: 0.9371026684134317 \n",
      "Precision:0.9664247769174682 \n",
      "Recall:0.885643375334097 \n",
      "F1-Score:0.9242723604907934 \n",
      "\n",
      "Numero de K:13\n",
      "Accuracy: 0.9347996966144936 \n",
      "Precision:0.9649947753396029 \n",
      "Recall:0.8815387552500955 \n",
      "F1-Score:0.9213808241045595 \n",
      "\n",
      "Numero de K:15\n",
      "Accuracy: 0.9340550230986693 \n",
      "Precision:0.9645721458958086 \n",
      "Recall:0.8801705485554283 \n",
      "F1-Score:0.9204405550194656 \n",
      "\n",
      "Numero de K:17\n",
      "Accuracy: 0.9326070468178997 \n",
      "Precision:0.9633716261042634 \n",
      "Recall:0.8778795978108693 \n",
      "F1-Score:0.9186408510496612 \n",
      "\n"
     ]
    }
   ],
   "source": [
    "k_list = np.arange(3,19,2)\n",
    "accuracy_list = []\n",
    "recall_list = []\n",
    "precision_list = []\n",
    "f1score_list = []\n",
    "\n",
    "for i in k_list:\n",
    "    # KNN \n",
    "    print (f'Numero de K:{i}')\n",
    "    knn = KNeighborsClassifier( n_neighbors = i )\n",
    "    knn.fit( X_train, y_train )\n",
    "    y_pred = knn.predict( X_train )\n",
    "    \n",
    "    # metrica acuracia\n",
    "    accuracy = mt.accuracy_score( y_train, y_pred )\n",
    "    print(f'Accuracy: {accuracy} ')\n",
    "    accuracy_list.append(accuracy)\n",
    "\n",
    "    #precision\n",
    "    precision = mt.precision_score( y_train, y_pred)\n",
    "    print (f'Precision:{precision} ')\n",
    "    precision_list.append(precision)\n",
    "\n",
    "    #recall\n",
    "    recall = mt.recall_score( y_train, y_pred)\n",
    "    print (f'Recall:{recall} ')\n",
    "    recall_list.append(recall)\n",
    "\n",
    "    #F1-Score\n",
    "    f1_score = mt.f1_score( y_train, y_pred)\n",
    "    print(f'F1-Score:{f1_score} \\n')\n",
    "    f1score_list.append(f1_score)\n",
    "    "
   ]
  },
  {
   "cell_type": "markdown",
   "id": "4a0ac744-33e1-4ffc-a37f-152c300eb9b8",
   "metadata": {},
   "source": [
    "**Dataframe dos resultados de treinamentos**"
   ]
  },
  {
   "cell_type": "code",
   "execution_count": 8,
   "id": "f01a6ef8-9bf3-4b9d-826b-0c5a6a898546",
   "metadata": {},
   "outputs": [
    {
     "data": {
      "text/html": [
       "<div>\n",
       "<style scoped>\n",
       "    .dataframe tbody tr th:only-of-type {\n",
       "        vertical-align: middle;\n",
       "    }\n",
       "\n",
       "    .dataframe tbody tr th {\n",
       "        vertical-align: top;\n",
       "    }\n",
       "\n",
       "    .dataframe thead th {\n",
       "        text-align: right;\n",
       "    }\n",
       "</style>\n",
       "<table border=\"1\" class=\"dataframe\">\n",
       "  <thead>\n",
       "    <tr style=\"text-align: right;\">\n",
       "      <th></th>\n",
       "      <th>K</th>\n",
       "      <th>Acurácia</th>\n",
       "      <th>Precisão</th>\n",
       "      <th>Recall</th>\n",
       "      <th>F1-Score</th>\n",
       "    </tr>\n",
       "  </thead>\n",
       "  <tbody>\n",
       "    <tr>\n",
       "      <th>0</th>\n",
       "      <td>3</td>\n",
       "      <td>0.957016</td>\n",
       "      <td>0.973191</td>\n",
       "      <td>0.926340</td>\n",
       "      <td>0.949187</td>\n",
       "    </tr>\n",
       "    <tr>\n",
       "      <th>1</th>\n",
       "      <td>5</td>\n",
       "      <td>0.947583</td>\n",
       "      <td>0.970087</td>\n",
       "      <td>0.907026</td>\n",
       "      <td>0.937497</td>\n",
       "    </tr>\n",
       "    <tr>\n",
       "      <th>2</th>\n",
       "      <td>7</td>\n",
       "      <td>0.943019</td>\n",
       "      <td>0.968585</td>\n",
       "      <td>0.897639</td>\n",
       "      <td>0.931763</td>\n",
       "    </tr>\n",
       "    <tr>\n",
       "      <th>3</th>\n",
       "      <td>9</td>\n",
       "      <td>0.939557</td>\n",
       "      <td>0.967858</td>\n",
       "      <td>0.890098</td>\n",
       "      <td>0.927351</td>\n",
       "    </tr>\n",
       "    <tr>\n",
       "      <th>4</th>\n",
       "      <td>11</td>\n",
       "      <td>0.937103</td>\n",
       "      <td>0.966425</td>\n",
       "      <td>0.885643</td>\n",
       "      <td>0.924272</td>\n",
       "    </tr>\n",
       "    <tr>\n",
       "      <th>5</th>\n",
       "      <td>13</td>\n",
       "      <td>0.934800</td>\n",
       "      <td>0.964995</td>\n",
       "      <td>0.881539</td>\n",
       "      <td>0.921381</td>\n",
       "    </tr>\n",
       "    <tr>\n",
       "      <th>6</th>\n",
       "      <td>15</td>\n",
       "      <td>0.934055</td>\n",
       "      <td>0.964572</td>\n",
       "      <td>0.880171</td>\n",
       "      <td>0.920441</td>\n",
       "    </tr>\n",
       "    <tr>\n",
       "      <th>7</th>\n",
       "      <td>17</td>\n",
       "      <td>0.932607</td>\n",
       "      <td>0.963372</td>\n",
       "      <td>0.877880</td>\n",
       "      <td>0.918641</td>\n",
       "    </tr>\n",
       "  </tbody>\n",
       "</table>\n",
       "</div>"
      ],
      "text/plain": [
       "    K  Acurácia  Precisão    Recall  F1-Score\n",
       "0   3  0.957016  0.973191  0.926340  0.949187\n",
       "1   5  0.947583  0.970087  0.907026  0.937497\n",
       "2   7  0.943019  0.968585  0.897639  0.931763\n",
       "3   9  0.939557  0.967858  0.890098  0.927351\n",
       "4  11  0.937103  0.966425  0.885643  0.924272\n",
       "5  13  0.934800  0.964995  0.881539  0.921381\n",
       "6  15  0.934055  0.964572  0.880171  0.920441\n",
       "7  17  0.932607  0.963372  0.877880  0.918641"
      ]
     },
     "execution_count": 8,
     "metadata": {},
     "output_type": "execute_result"
    }
   ],
   "source": [
    "df_resultados = { 'K' : k_list , \n",
    "             'Acurácia' : accuracy_list,\n",
    "             'Precisão' : precision_list,\n",
    "             'Recall'   : recall_list,\n",
    "             'F1-Score' : f1score_list}\n",
    "\n",
    "df_resultados = pd.DataFrame(df_resultados)\n",
    "df_resultados"
   ]
  },
  {
   "cell_type": "markdown",
   "id": "27d82a6f-78cd-4ffd-a2be-582dd3cd7dbb",
   "metadata": {},
   "source": [
    "### Dados de Validação"
   ]
  },
  {
   "cell_type": "markdown",
   "id": "529fe9e0-4b78-410a-997b-d895f80962c8",
   "metadata": {},
   "source": [
    "**Definindo o melhor K para validação**\n"
   ]
  },
  {
   "cell_type": "code",
   "execution_count": 9,
   "id": "04bb9693-5498-462f-a26f-c3cd96c5b5f1",
   "metadata": {},
   "outputs": [],
   "source": [
    "best_k = accuracy_list.index(max(accuracy_list))\n",
    "\n"
   ]
  },
  {
   "cell_type": "code",
   "execution_count": 10,
   "id": "1a7e538d-41b3-4a2b-9165-5041db635992",
   "metadata": {},
   "outputs": [
    {
     "data": {
      "text/plain": [
       "3"
      ]
     },
     "execution_count": 10,
     "metadata": {},
     "output_type": "execute_result"
    }
   ],
   "source": [
    "k_list[best_k]"
   ]
  },
  {
   "cell_type": "markdown",
   "id": "02295151-c8ac-4d2c-b547-14d8027c0682",
   "metadata": {},
   "source": [
    "**Retreinar o modelo com o melhor parametro sobre os dados de validação**"
   ]
  },
  {
   "cell_type": "code",
   "execution_count": 11,
   "id": "569f096e-3bf5-492f-b321-8d0f54353502",
   "metadata": {},
   "outputs": [
    {
     "name": "stdout",
     "output_type": "stream",
     "text": [
      "Accuracy: 0.9235174876926542 \n",
      "Precision:0.94254707947654 \n",
      "Recall:0.8769767614522236 \n",
      "F1-Score:0.9085804392138764 \n",
      "\n"
     ]
    }
   ],
   "source": [
    "# Definition\n",
    "model = KNeighborsClassifier( n_neighbors = k_list[best_k] )\n",
    "\n",
    "#Traning \n",
    "model.fit(X_train , y_train)\n",
    "\n",
    "#Previsão sobre os dados de validacao \n",
    "yhat_val = model.predict( X_val)\n",
    "\n",
    "# metrica acuracia val\n",
    "accuracy = mt.accuracy_score( y_val, yhat_val )\n",
    "print(f'Accuracy: {accuracy} ')\n",
    "\n",
    "#precision val\n",
    "precision = mt.precision_score( y_val, yhat_val)\n",
    "print (f'Precision:{precision} ')\n",
    "\n",
    "#recall val\n",
    "recall = mt.recall_score( y_val, yhat_val)\n",
    "print (f'Recall:{recall} ')\n",
    "\n",
    "#F1-Score val\n",
    "f1_score = mt.f1_score( y_val, yhat_val)\n",
    "print(f'F1-Score:{f1_score} \\n')\n",
    "\n",
    "    \n"
   ]
  },
  {
   "cell_type": "markdown",
   "id": "225c92d0-be52-4ba9-85eb-da4c03eb1c73",
   "metadata": {},
   "source": [
    "### Dados de Teste"
   ]
  },
  {
   "cell_type": "markdown",
   "id": "4aa462ad-cd74-4565-ae89-9faf7036f79d",
   "metadata": {},
   "source": [
    "**Modelo treinado e validado, agora usar os dados teste**"
   ]
  },
  {
   "cell_type": "code",
   "execution_count": 12,
   "id": "7972b7d1-c083-4b90-aef5-5a076050cd63",
   "metadata": {},
   "outputs": [
    {
     "name": "stderr",
     "output_type": "stream",
     "text": [
      "\\\\?\\C:\\Users\\User\\AppData\\Roaming\\jupyterlab-desktop\\jlab_server\\Lib\\site-packages\\sklearn\\base.py:486: UserWarning: X has feature names, but KNeighborsClassifier was fitted without feature names\n",
      "  warnings.warn(\n"
     ]
    },
    {
     "name": "stdout",
     "output_type": "stream",
     "text": [
      "Accuracy: 0.9277024678484532 \n",
      "Precision:0.9447203223086292 \n",
      "Recall:0.8871975362956446 \n",
      "F1-Score:0.9150558126871767 \n",
      "\n"
     ]
    }
   ],
   "source": [
    "# Definition\n",
    "model_last = KNeighborsClassifier( n_neighbors = k_list[best_k] )\n",
    "\n",
    "#Training\n",
    "model_last.fit(np.concatenate((X_train, X_val)), \n",
    "               np.concatenate((y_train, y_val)))\n",
    "\n",
    "#previsão sobre os dados de teste\n",
    "ypred_test = model_last.predict(X_test)\n",
    "\n",
    "# metrica acuracia teste\n",
    "accuracy = mt.accuracy_score( y_test, ypred_test )\n",
    "print(f'Accuracy: {accuracy} ')\n",
    "\n",
    "#precision teste\n",
    "precision = mt.precision_score( y_test, ypred_test)\n",
    "print (f'Precision:{precision} ')\n",
    "\n",
    "#recall teste\n",
    "recall = mt.recall_score( y_test, ypred_test)\n",
    "print (f'Recall:{recall} ')\n",
    "\n",
    "#F1-Score teste\n",
    "f1_score = mt.f1_score( y_test, ypred_test)\n",
    "print(f'F1-Score:{f1_score} \\n')\n"
   ]
  },
  {
   "cell_type": "code",
   "execution_count": null,
   "id": "fbb37c92-46a1-483a-9413-0301916b8efa",
   "metadata": {},
   "outputs": [],
   "source": []
  },
  {
   "cell_type": "code",
   "execution_count": null,
   "id": "3c030bd6-fc24-4cd5-b150-f726db3a95b1",
   "metadata": {},
   "outputs": [],
   "source": []
  }
 ],
 "metadata": {
  "kernelspec": {
   "display_name": "Python 3 (ipykernel)",
   "language": "python",
   "name": "python3"
  },
  "language_info": {
   "codemirror_mode": {
    "name": "ipython",
    "version": 3
   },
   "file_extension": ".py",
   "mimetype": "text/x-python",
   "name": "python",
   "nbconvert_exporter": "python",
   "pygments_lexer": "ipython3",
   "version": "3.12.3"
  }
 },
 "nbformat": 4,
 "nbformat_minor": 5
}
