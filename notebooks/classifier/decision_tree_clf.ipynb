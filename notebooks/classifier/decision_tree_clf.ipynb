{
 "cells": [
  {
   "cell_type": "markdown",
   "id": "08e51353-fc22-44db-a065-90cb4fb82aff",
   "metadata": {},
   "source": [
    "## Decision Tree Classifier"
   ]
  },
  {
   "cell_type": "code",
   "execution_count": 1,
   "id": "e3c6bb87-6a4b-4346-9f03-723fd22fb989",
   "metadata": {},
   "outputs": [],
   "source": [
    "#import bibliotecas\n",
    "\n",
    "import numpy as np\n",
    "import pandas as pd\n",
    "\n",
    "from sklearn import tree    as tr\n",
    "from sklearn import metrics as mt\n",
    "\n",
    "from matplotlib import pyplot as plt"
   ]
  },
  {
   "cell_type": "markdown",
   "id": "fe8e2546-7da7-4bb5-bec4-aad4538aacaf",
   "metadata": {},
   "source": [
    "### Load Datasets"
   ]
  },
  {
   "cell_type": "code",
   "execution_count": 2,
   "id": "b16f00ae-d8b0-4609-a794-4573bc4f4a29",
   "metadata": {},
   "outputs": [],
   "source": [
    "X_train = pd.read_csv('X_training.csv')\n",
    "y_train = pd.read_csv('y_training.csv') \n",
    "X_test = pd.read_csv('X_test.csv')\n",
    "y_test = pd.read_csv('y_test.csv')\n",
    "X_val = pd.read_csv('X_validation.csv')\n",
    "y_val = pd.read_csv('y_validation.csv') "
   ]
  },
  {
   "cell_type": "markdown",
   "id": "edda3011-e883-476e-9f93-7ca424e09807",
   "metadata": {},
   "source": [
    "**Remover a coluna do ID dos datasets pois não é uma coluna categórica**"
   ]
  },
  {
   "cell_type": "code",
   "execution_count": 3,
   "id": "42e1daba-ebec-4fb8-8b2d-12be0c078a72",
   "metadata": {},
   "outputs": [],
   "source": [
    "X_train = X_train.drop(['id'] , axis =1)\n",
    "X_test = X_test.drop(['id'] , axis =1)\n",
    "X_val = X_val.drop(['id'] , axis =1)"
   ]
  },
  {
   "cell_type": "code",
   "execution_count": 4,
   "id": "91a770d7-6681-4285-9ee7-68570a646193",
   "metadata": {},
   "outputs": [
    {
     "data": {
      "text/html": [
       "<div>\n",
       "<style scoped>\n",
       "    .dataframe tbody tr th:only-of-type {\n",
       "        vertical-align: middle;\n",
       "    }\n",
       "\n",
       "    .dataframe tbody tr th {\n",
       "        vertical-align: top;\n",
       "    }\n",
       "\n",
       "    .dataframe thead th {\n",
       "        text-align: right;\n",
       "    }\n",
       "</style>\n",
       "<table border=\"1\" class=\"dataframe\">\n",
       "  <thead>\n",
       "    <tr style=\"text-align: right;\">\n",
       "      <th></th>\n",
       "      <th>customer_type</th>\n",
       "      <th>age</th>\n",
       "      <th>class</th>\n",
       "      <th>flight_distance</th>\n",
       "      <th>inflight_wifi_service</th>\n",
       "      <th>departure_arrival_time_convenient</th>\n",
       "      <th>ease_of_online_booking</th>\n",
       "      <th>gate_location</th>\n",
       "      <th>food_and_drink</th>\n",
       "      <th>online_boarding</th>\n",
       "      <th>...</th>\n",
       "      <th>baggage_handling</th>\n",
       "      <th>checkin_service</th>\n",
       "      <th>inflight_service</th>\n",
       "      <th>cleanliness</th>\n",
       "      <th>departure_delay_in_minutes</th>\n",
       "      <th>arrival_delay_in_minutes</th>\n",
       "      <th>gender_Female</th>\n",
       "      <th>gender_Male</th>\n",
       "      <th>type_of_travel_business_travel</th>\n",
       "      <th>type_of_travel_personal_travel</th>\n",
       "    </tr>\n",
       "  </thead>\n",
       "  <tbody>\n",
       "    <tr>\n",
       "      <th>0</th>\n",
       "      <td>1</td>\n",
       "      <td>0.50000</td>\n",
       "      <td>0.0</td>\n",
       "      <td>0.039580</td>\n",
       "      <td>0.6</td>\n",
       "      <td>0.6</td>\n",
       "      <td>0.6</td>\n",
       "      <td>0.6</td>\n",
       "      <td>1.0</td>\n",
       "      <td>1.0</td>\n",
       "      <td>...</td>\n",
       "      <td>0.5</td>\n",
       "      <td>1.0</td>\n",
       "      <td>0.6</td>\n",
       "      <td>0.4</td>\n",
       "      <td>0.0</td>\n",
       "      <td>0.013848</td>\n",
       "      <td>1.0</td>\n",
       "      <td>0.0</td>\n",
       "      <td>1.0</td>\n",
       "      <td>0.0</td>\n",
       "    </tr>\n",
       "    <tr>\n",
       "      <th>1</th>\n",
       "      <td>1</td>\n",
       "      <td>0.24359</td>\n",
       "      <td>0.0</td>\n",
       "      <td>0.205775</td>\n",
       "      <td>0.6</td>\n",
       "      <td>0.4</td>\n",
       "      <td>0.4</td>\n",
       "      <td>0.4</td>\n",
       "      <td>0.6</td>\n",
       "      <td>0.8</td>\n",
       "      <td>...</td>\n",
       "      <td>0.5</td>\n",
       "      <td>0.5</td>\n",
       "      <td>0.2</td>\n",
       "      <td>0.6</td>\n",
       "      <td>0.0</td>\n",
       "      <td>0.000000</td>\n",
       "      <td>0.0</td>\n",
       "      <td>1.0</td>\n",
       "      <td>1.0</td>\n",
       "      <td>0.0</td>\n",
       "    </tr>\n",
       "  </tbody>\n",
       "</table>\n",
       "<p>2 rows × 24 columns</p>\n",
       "</div>"
      ],
      "text/plain": [
       "   customer_type      age  class  flight_distance  inflight_wifi_service  \\\n",
       "0              1  0.50000    0.0         0.039580                    0.6   \n",
       "1              1  0.24359    0.0         0.205775                    0.6   \n",
       "\n",
       "   departure_arrival_time_convenient  ease_of_online_booking  gate_location  \\\n",
       "0                                0.6                     0.6            0.6   \n",
       "1                                0.4                     0.4            0.4   \n",
       "\n",
       "   food_and_drink  online_boarding  ...  baggage_handling  checkin_service  \\\n",
       "0             1.0              1.0  ...               0.5              1.0   \n",
       "1             0.6              0.8  ...               0.5              0.5   \n",
       "\n",
       "   inflight_service  cleanliness  departure_delay_in_minutes  \\\n",
       "0               0.6          0.4                         0.0   \n",
       "1               0.2          0.6                         0.0   \n",
       "\n",
       "   arrival_delay_in_minutes  gender_Female  gender_Male  \\\n",
       "0                  0.013848            1.0          0.0   \n",
       "1                  0.000000            0.0          1.0   \n",
       "\n",
       "   type_of_travel_business_travel  type_of_travel_personal_travel  \n",
       "0                             1.0                             0.0  \n",
       "1                             1.0                             0.0  \n",
       "\n",
       "[2 rows x 24 columns]"
      ]
     },
     "execution_count": 4,
     "metadata": {},
     "output_type": "execute_result"
    }
   ],
   "source": [
    "X_train.head(2)"
   ]
  },
  {
   "cell_type": "markdown",
   "id": "f8cfaf8b-1293-4e12-8af5-b403d3641868",
   "metadata": {},
   "source": [
    "### Dados de Treino"
   ]
  },
  {
   "cell_type": "code",
   "execution_count": 5,
   "id": "f525015c-ef38-411b-bca0-2d36815385e6",
   "metadata": {},
   "outputs": [],
   "source": [
    "\n",
    "values = [i for i in range(1,60)]\n",
    "acc_scores = []\n",
    "precision_scores = []\n",
    "recall_scores = []\n",
    "f1score_scores = []\n",
    "\n",
    "#define\n",
    "\n",
    "for i in values:\n",
    "    model = tr.DecisionTreeClassifier(max_depth = i)\n",
    "\n",
    "# training (fit)\n",
    "    model.fit(X_train , y_train)\n",
    "    \n",
    "# predict sobre os dados de treinamento \n",
    "    yhat_train = model.predict( X_train)\n",
    "\n",
    "#Acurácia\n",
    "    acc = mt.accuracy_score( y_train, yhat_train )\n",
    "    acc_scores.append(acc)\n",
    "\n",
    "#Precision\n",
    "    precision = mt.precision_score( y_train, yhat_train )\n",
    "    precision_scores.append(precision)\n",
    "    \n",
    "#Recall\n",
    "    recall = mt.recall_score( y_train, yhat_train )\n",
    "    recall_scores.append(recall)\n",
    "    \n",
    "#F1-Score\n",
    "    f1score = mt.f1_score( y_train, yhat_train )\n",
    "    f1score_scores.append(f1score)\n",
    "    \n",
    "    \n",
    "    "
   ]
  },
  {
   "cell_type": "code",
   "execution_count": 6,
   "id": "1303c55c-2992-4f13-829d-19f97e1d601b",
   "metadata": {},
   "outputs": [
    {
     "data": {
      "image/png": "[encoded data removed]",
      "text/plain": [
       "<Figure size 640x480 with 1 Axes>"
      ]
     },
     "metadata": {},
     "output_type": "display_data"
    }
   ],
   "source": [
    "\n",
    "plt.plot( values, acc_scores, '-o', label='Validation' )\n",
    "plt.legend()\n",
    "plt.show()"
   ]
  },
  {
   "cell_type": "markdown",
   "id": "e108ee4c-e229-43c7-aacf-8ba0f3aaa90d",
   "metadata": {},
   "source": [
    "**melhor max_depth encontrado é:**"
   ]
  },
  {
   "cell_type": "code",
   "execution_count": 7,
   "id": "5f42bd78-e41a-402e-8c98-fc6e3654fae1",
   "metadata": {},
   "outputs": [
    {
     "data": {
      "text/plain": [
       "33"
      ]
     },
     "execution_count": 7,
     "metadata": {},
     "output_type": "execute_result"
    }
   ],
   "source": [
    "best_md = acc_scores.index(max(acc_scores))\n",
    "best_md "
   ]
  },
  {
   "cell_type": "markdown",
   "id": "5989fe85-0aff-45b2-aebf-1abbd1eb936f",
   "metadata": {},
   "source": [
    "**Dataframe dos valores de treino**"
   ]
  },
  {
   "cell_type": "code",
   "execution_count": 8,
   "id": "a7060dc4-5fce-43de-9d7f-da26b709443b",
   "metadata": {},
   "outputs": [],
   "source": [
    "df_valores = { 'Max_depth' : values,\n",
    "               'Acurácia'  : acc_scores,\n",
    "               'Precision' : precision_scores,\n",
    "               'Recall'    : recall_scores,\n",
    "               'F1 Score'  : f1score_scores\n",
    "             }\n",
    "\n",
    "df_valores = pd.DataFrame(df_valores)\n"
   ]
  },
  {
   "cell_type": "markdown",
   "id": "245a140b-c5f9-4202-902a-2965b6574cc7",
   "metadata": {},
   "source": [
    "**Valores de Acurácia, Precision, Recall e F1 Score para dados de treino:**"
   ]
  },
  {
   "cell_type": "code",
   "execution_count": 9,
   "id": "401fb392-2a95-40d9-8236-a18321b5a467",
   "metadata": {},
   "outputs": [
    {
     "data": {
      "text/plain": [
       "Max_depth    33.0\n",
       "Acurácia      1.0\n",
       "Precision     1.0\n",
       "Recall        1.0\n",
       "F1 Score      1.0\n",
       "Name: 33, dtype: float64"
      ]
     },
     "execution_count": 9,
     "metadata": {},
     "output_type": "execute_result"
    }
   ],
   "source": [
    "filtro = df_valores['Max_depth'] = best_md\n",
    "\n",
    "df_valores.loc[filtro , :]"
   ]
  },
  {
   "cell_type": "markdown",
   "id": "830cd369-cb44-437e-92f9-ab7b83d14665",
   "metadata": {},
   "source": [
    "### Dados de Validação"
   ]
  },
  {
   "cell_type": "markdown",
   "id": "a2707483-2910-44d8-9234-fee87888e083",
   "metadata": {},
   "source": [
    "**Agora com o melhor parametro de max_depth sobre os dados de validação**"
   ]
  },
  {
   "cell_type": "code",
   "execution_count": 10,
   "id": "2788eef4-ccfd-49fa-81da-55c5d682ee6a",
   "metadata": {},
   "outputs": [
    {
     "name": "stdout",
     "output_type": "stream",
     "text": [
      "Accuracy: 0.9437240580456256 \n",
      "Precision:0.9311359623307828 \n",
      "Recall:0.9396391714306928 \n",
      "F1-Score:0.9353682421196556 \n",
      "\n"
     ]
    }
   ],
   "source": [
    "# Definition\n",
    "model = tr.DecisionTreeClassifier(max_depth = best_md)\n",
    "\n",
    "#Traning \n",
    "model.fit(X_train , y_train)\n",
    "\n",
    "#Previsão sobre os dados de validacao\n",
    "yhat_val = model.predict( X_val)\n",
    "\n",
    "# metrica acuracia val\n",
    "accuracy = mt.accuracy_score( y_val, yhat_val )\n",
    "print(f'Accuracy: {accuracy} ')\n",
    "\n",
    "#precision val\n",
    "precision = mt.precision_score( y_val, yhat_val)\n",
    "print (f'Precision:{precision} ')\n",
    "\n",
    "#recall val\n",
    "recall = mt.recall_score( y_val, yhat_val)\n",
    "print (f'Recall:{recall} ')\n",
    "\n",
    "#F1-Score val\n",
    "f1_score = mt.f1_score( y_val, yhat_val)\n",
    "print(f'F1-Score:{f1_score} \\n')\n"
   ]
  },
  {
   "cell_type": "markdown",
   "id": "b5b51d84-933e-4528-9e16-d9cc176b927c",
   "metadata": {},
   "source": [
    "### Dados de Teste"
   ]
  },
  {
   "cell_type": "markdown",
   "id": "9c503392-00a9-45ab-9834-f37f20f9cf5a",
   "metadata": {},
   "source": [
    "**Modelo treinado e validado. Agora com o melhor parametro de max_depth sobre os dados de teste**"
   ]
  },
  {
   "cell_type": "code",
   "execution_count": 11,
   "id": "de425cf3-9bbd-449e-8fc4-de7d531c956b",
   "metadata": {},
   "outputs": [
    {
     "name": "stdout",
     "output_type": "stream",
     "text": [
      "Accuracy: 0.9467809832773336 \n",
      "Precision:0.9376807783328951 \n",
      "Recall:0.941311042674879 \n",
      "F1-Score:0.9394924036181611 \n",
      "\n"
     ]
    },
    {
     "name": "stderr",
     "output_type": "stream",
     "text": [
      "\\\\?\\C:\\Users\\User\\AppData\\Roaming\\jupyterlab-desktop\\jlab_server\\Lib\\site-packages\\sklearn\\base.py:486: UserWarning: X has feature names, but DecisionTreeClassifier was fitted without feature names\n",
      "  warnings.warn(\n"
     ]
    }
   ],
   "source": [
    "# Definition\n",
    "model_last = tr.DecisionTreeClassifier(max_depth = best_md)\n",
    "\n",
    "#Training\n",
    "model_last.fit(np.concatenate((X_train, X_val)), \n",
    "               np.concatenate((y_train, y_val)))\n",
    "\n",
    "#previsão sobre os dados de teste e validacao juntos\n",
    "ypred_test = model_last.predict(X_test)\n",
    "\n",
    "# metrica acuracia teste\n",
    "accuracy = mt.accuracy_score( y_test, ypred_test )\n",
    "print(f'Accuracy: {accuracy} ')\n",
    "\n",
    "#precision teste\n",
    "precision = mt.precision_score( y_test, ypred_test)\n",
    "print (f'Precision:{precision} ')\n",
    "\n",
    "#recall teste\n",
    "recall = mt.recall_score( y_test, ypred_test)\n",
    "print (f'Recall:{recall} ')\n",
    "\n",
    "#F1-Score teste\n",
    "f1_score = mt.f1_score( y_test, ypred_test)\n",
    "print(f'F1-Score:{f1_score} \\n')\n"
   ]
  }
 ],
 "metadata": {
  "kernelspec": {
   "display_name": "Python 3 (ipykernel)",
   "language": "python",
   "name": "python3"
  },
  "language_info": {
   "codemirror_mode": {
    "name": "ipython",
    "version": 3
   },
   "file_extension": ".py",
   "mimetype": "text/x-python",
   "name": "python",
   "nbconvert_exporter": "python",
   "pygments_lexer": "ipython3",
   "version": "3.12.3"
  }
 },
 "nbformat": 4,
 "nbformat_minor": 5
}
