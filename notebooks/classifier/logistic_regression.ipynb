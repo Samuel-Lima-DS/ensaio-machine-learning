{
 "cells": [
  {
   "cell_type": "markdown",
   "id": "2092a18c-762e-4d4f-b971-248d996af36a",
   "metadata": {},
   "source": [
    "## Logistic Regression\n"
   ]
  },
  {
   "cell_type": "code",
   "execution_count": 1,
   "id": "c75492f1-3ffe-4405-beaf-4deddb46e7ff",
   "metadata": {},
   "outputs": [],
   "source": [
    "# import bibliotecas\n",
    "\n",
    "import pandas as pd\n",
    "import numpy  as np\n",
    "\n",
    "from sklearn import metrics as mt\n",
    "from sklearn.linear_model import LogisticRegression"
   ]
  },
  {
   "cell_type": "markdown",
   "id": "9966e2f7-ad31-47e7-a049-0939d87ae002",
   "metadata": {},
   "source": [
    "### Load Datasets"
   ]
  },
  {
   "cell_type": "code",
   "execution_count": 2,
   "id": "32503c67-4477-4055-a2cd-b0184a86ccce",
   "metadata": {},
   "outputs": [],
   "source": [
    "X_train = pd.read_csv('X_training.csv')\n",
    "y_train = pd.read_csv('y_training.csv') \n",
    "X_test = pd.read_csv('X_test.csv')\n",
    "y_test = pd.read_csv('y_test.csv')\n",
    "X_val = pd.read_csv('X_validation.csv')\n",
    "y_val = pd.read_csv('y_validation.csv') "
   ]
  },
  {
   "cell_type": "markdown",
   "id": "9287694b-94bb-4c34-9547-d64ba2cf72f4",
   "metadata": {},
   "source": [
    "**Remover a coluna do ID dos datasets pois não é uma coluna categórica**\n"
   ]
  },
  {
   "cell_type": "code",
   "execution_count": 3,
   "id": "97b64b2b-34e4-4da3-8d8f-b03a27c2dc3b",
   "metadata": {},
   "outputs": [],
   "source": [
    "X_train = X_train.drop(['id'] , axis =1)\n",
    "X_test = X_test.drop(['id'] , axis =1)\n",
    "X_val = X_val.drop(['id'] , axis =1)"
   ]
  },
  {
   "cell_type": "code",
   "execution_count": 5,
   "id": "a2f5213f-825e-4837-821a-030d2bc2e36e",
   "metadata": {},
   "outputs": [
    {
     "data": {
      "text/html": [
       "<div>\n",
       "<style scoped>\n",
       "    .dataframe tbody tr th:only-of-type {\n",
       "        vertical-align: middle;\n",
       "    }\n",
       "\n",
       "    .dataframe tbody tr th {\n",
       "        vertical-align: top;\n",
       "    }\n",
       "\n",
       "    .dataframe thead th {\n",
       "        text-align: right;\n",
       "    }\n",
       "</style>\n",
       "<table border=\"1\" class=\"dataframe\">\n",
       "  <thead>\n",
       "    <tr style=\"text-align: right;\">\n",
       "      <th></th>\n",
       "      <th>customer_type</th>\n",
       "      <th>age</th>\n",
       "      <th>class</th>\n",
       "      <th>flight_distance</th>\n",
       "      <th>inflight_wifi_service</th>\n",
       "      <th>departure_arrival_time_convenient</th>\n",
       "      <th>ease_of_online_booking</th>\n",
       "      <th>gate_location</th>\n",
       "      <th>food_and_drink</th>\n",
       "      <th>online_boarding</th>\n",
       "      <th>...</th>\n",
       "      <th>baggage_handling</th>\n",
       "      <th>checkin_service</th>\n",
       "      <th>inflight_service</th>\n",
       "      <th>cleanliness</th>\n",
       "      <th>departure_delay_in_minutes</th>\n",
       "      <th>arrival_delay_in_minutes</th>\n",
       "      <th>gender_Female</th>\n",
       "      <th>gender_Male</th>\n",
       "      <th>type_of_travel_business_travel</th>\n",
       "      <th>type_of_travel_personal_travel</th>\n",
       "    </tr>\n",
       "  </thead>\n",
       "  <tbody>\n",
       "    <tr>\n",
       "      <th>0</th>\n",
       "      <td>1</td>\n",
       "      <td>0.525641</td>\n",
       "      <td>1.0</td>\n",
       "      <td>0.714055</td>\n",
       "      <td>1.0</td>\n",
       "      <td>1.0</td>\n",
       "      <td>1.0</td>\n",
       "      <td>1.0</td>\n",
       "      <td>0.8</td>\n",
       "      <td>0.8</td>\n",
       "      <td>...</td>\n",
       "      <td>0.75</td>\n",
       "      <td>0.75</td>\n",
       "      <td>0.8</td>\n",
       "      <td>0.8</td>\n",
       "      <td>0.000000</td>\n",
       "      <td>0.000000</td>\n",
       "      <td>0.0</td>\n",
       "      <td>1.0</td>\n",
       "      <td>1.0</td>\n",
       "      <td>0.0</td>\n",
       "    </tr>\n",
       "    <tr>\n",
       "      <th>1</th>\n",
       "      <td>1</td>\n",
       "      <td>0.615385</td>\n",
       "      <td>1.0</td>\n",
       "      <td>0.054725</td>\n",
       "      <td>0.4</td>\n",
       "      <td>1.0</td>\n",
       "      <td>1.0</td>\n",
       "      <td>1.0</td>\n",
       "      <td>0.4</td>\n",
       "      <td>0.4</td>\n",
       "      <td>...</td>\n",
       "      <td>0.25</td>\n",
       "      <td>0.00</td>\n",
       "      <td>0.4</td>\n",
       "      <td>0.6</td>\n",
       "      <td>0.004916</td>\n",
       "      <td>0.004946</td>\n",
       "      <td>0.0</td>\n",
       "      <td>1.0</td>\n",
       "      <td>1.0</td>\n",
       "      <td>0.0</td>\n",
       "    </tr>\n",
       "  </tbody>\n",
       "</table>\n",
       "<p>2 rows × 24 columns</p>\n",
       "</div>"
      ],
      "text/plain": [
       "   customer_type       age  class  flight_distance  inflight_wifi_service  \\\n",
       "0              1  0.525641    1.0         0.714055                    1.0   \n",
       "1              1  0.615385    1.0         0.054725                    0.4   \n",
       "\n",
       "   departure_arrival_time_convenient  ease_of_online_booking  gate_location  \\\n",
       "0                                1.0                     1.0            1.0   \n",
       "1                                1.0                     1.0            1.0   \n",
       "\n",
       "   food_and_drink  online_boarding  ...  baggage_handling  checkin_service  \\\n",
       "0             0.8              0.8  ...              0.75             0.75   \n",
       "1             0.4              0.4  ...              0.25             0.00   \n",
       "\n",
       "   inflight_service  cleanliness  departure_delay_in_minutes  \\\n",
       "0               0.8          0.8                    0.000000   \n",
       "1               0.4          0.6                    0.004916   \n",
       "\n",
       "   arrival_delay_in_minutes  gender_Female  gender_Male  \\\n",
       "0                  0.000000            0.0          1.0   \n",
       "1                  0.004946            0.0          1.0   \n",
       "\n",
       "   type_of_travel_business_travel  type_of_travel_personal_travel  \n",
       "0                             1.0                             0.0  \n",
       "1                             1.0                             0.0  \n",
       "\n",
       "[2 rows x 24 columns]"
      ]
     },
     "execution_count": 5,
     "metadata": {},
     "output_type": "execute_result"
    }
   ],
   "source": [
    "X_val.head(2)"
   ]
  },
  {
   "cell_type": "code",
   "execution_count": 6,
   "id": "563b0904-daa6-42a1-ac51-a44194dbc67d",
   "metadata": {},
   "outputs": [],
   "source": [
    "# preparação dos dados \n",
    "\n",
    "y_train = y_train.values.ravel()\n",
    "y_val = y_val.values.ravel()"
   ]
  },
  {
   "cell_type": "markdown",
   "id": "6267fe25-eae0-4436-af19-900e590b8078",
   "metadata": {},
   "source": [
    "### Dados de Treino"
   ]
  },
  {
   "cell_type": "code",
   "execution_count": 18,
   "id": "f3487d1f-9941-446a-8cb1-8f33ccd6a020",
   "metadata": {},
   "outputs": [
    {
     "name": "stdout",
     "output_type": "stream",
     "text": [
      "Acurácia: 0.8752120250982556\n",
      "Precision: 0.8706236958033852\n",
      "Recall: 0.8363561155657375\n",
      "F1 Score: 0.8531459452441617\n"
     ]
    }
   ],
   "source": [
    "#define\n",
    "model = LogisticRegression(C=1.0 , solver='newton-cholesky' , max_iter=100)\n",
    "\n",
    "#training\n",
    "model.fit (X_train , y_train)\n",
    "\n",
    "#predict\n",
    "ypred_test = model.predict (X_train)\n",
    "\n",
    "#acuracia\n",
    "acc = mt.accuracy_score(y_train , ypred_test)\n",
    "print ('Acurácia: {}'.format(acc))\n",
    "\n",
    "#precision\n",
    "precision = mt.precision_score(y_train , ypred_test)\n",
    "print ('Precision: {}'.format (precision))\n",
    "\n",
    "#recall\n",
    "recall = mt.recall_score(y_train , ypred_test)\n",
    "print ('Recall: {}' .format(recall))\n",
    "       \n",
    "#f1score\n",
    "f1 = mt.f1_score(y_train , ypred_test)\n",
    "print ('F1 Score: {}'.format(f1))"
   ]
  },
  {
   "cell_type": "markdown",
   "id": "afc12546-6573-4176-986a-d8a1092a8bd2",
   "metadata": {},
   "source": [
    "### Dados de Validação"
   ]
  },
  {
   "cell_type": "code",
   "execution_count": 17,
   "id": "c8b8331e-358f-4bd0-8340-ed29cff2cf1b",
   "metadata": {},
   "outputs": [
    {
     "name": "stdout",
     "output_type": "stream",
     "text": [
      "Acurácia: 0.8739019916985746\n",
      "Precision: 0.8687828236021007\n",
      "Recall: 0.8351770732793823\n",
      "F1 Score: 0.851648559639626\n"
     ]
    }
   ],
   "source": [
    "#define\n",
    "model = LogisticRegression(C=1.0 , solver='newton-cholesky' , max_iter=100)\n",
    "\n",
    "#training\n",
    "model.fit (X_train , y_train)\n",
    "\n",
    "#predict\n",
    "ypred_val = model.predict (X_val)\n",
    "\n",
    "#acuracia\n",
    "acc = mt.accuracy_score(y_val , ypred_val)\n",
    "print ('Acurácia: {}'.format(acc))\n",
    "\n",
    "#precision\n",
    "precision = mt.precision_score(y_val , ypred_val)\n",
    "print ('Precision: {}'.format (precision))\n",
    "\n",
    "#recall\n",
    "recall = mt.recall_score(y_val , ypred_val)\n",
    "print ('Recall: {}' .format(recall))\n",
    "       \n",
    "#f1score\n",
    "f1 = mt.f1_score(y_val , ypred_val)\n",
    "print ('F1 Score: {}'.format(f1))"
   ]
  },
  {
   "cell_type": "markdown",
   "id": "50506654-1735-4dbb-a0ca-ee53844d5d1e",
   "metadata": {},
   "source": [
    "### Dados de teste "
   ]
  },
  {
   "cell_type": "code",
   "execution_count": 20,
   "id": "1c652dfd-46b9-47a0-b021-c8cffee044bf",
   "metadata": {},
   "outputs": [
    {
     "name": "stdout",
     "output_type": "stream",
     "text": [
      "Acurácia: 0.8713938129996525\n",
      "Precision: 0.8686794530604753\n",
      "Recall: 0.8329080510338759\n",
      "F1 Score: 0.8504177522235199\n"
     ]
    },
    {
     "name": "stderr",
     "output_type": "stream",
     "text": [
      "\\\\?\\C:\\Users\\User\\AppData\\Roaming\\jupyterlab-desktop\\jlab_server\\Lib\\site-packages\\sklearn\\base.py:486: UserWarning: X has feature names, but LogisticRegression was fitted without feature names\n",
      "  warnings.warn(\n"
     ]
    }
   ],
   "source": [
    "#define\n",
    "model = LogisticRegression(C=1.0 , solver='newton-cholesky' , max_iter=100)\n",
    "\n",
    "#training\n",
    "model.fit (np.concatenate((X_train , X_val)),\n",
    "           np.concatenate((y_train ,y_val)))\n",
    "\n",
    "#predict\n",
    "ypred_test = model.predict (X_test)\n",
    "\n",
    "#acuracia\n",
    "acc = mt.accuracy_score(y_test , ypred_test)\n",
    "print ('Acurácia: {}'.format(acc))\n",
    "\n",
    "#precision\n",
    "precision = mt.precision_score(y_test , ypred_test)\n",
    "print ('Precision: {}'.format (precision))\n",
    "\n",
    "#recall\n",
    "recall = mt.recall_score(y_test , ypred_test)\n",
    "print ('Recall: {}' .format(recall))\n",
    "       \n",
    "#f1score\n",
    "f1 = mt.f1_score(y_test , ypred_test)\n",
    "print ('F1 Score: {}'.format(f1))"
   ]
  }
 ],
 "metadata": {
  "kernelspec": {
   "display_name": "Python 3 (ipykernel)",
   "language": "python",
   "name": "python3"
  },
  "language_info": {
   "codemirror_mode": {
    "name": "ipython",
    "version": 3
   },
   "file_extension": ".py",
   "mimetype": "text/x-python",
   "name": "python",
   "nbconvert_exporter": "python",
   "pygments_lexer": "ipython3",
   "version": "3.12.3"
  }
 },
 "nbformat": 4,
 "nbformat_minor": 5
}
