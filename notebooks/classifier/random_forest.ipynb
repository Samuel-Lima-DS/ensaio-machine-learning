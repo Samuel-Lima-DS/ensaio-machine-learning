{
 "cells": [
  {
   "cell_type": "markdown",
   "id": "663595f1-45f8-4236-bd84-eccf62a2c1a4",
   "metadata": {},
   "source": [
    "## Random Forest"
   ]
  },
  {
   "cell_type": "code",
   "execution_count": 1,
   "id": "c9af38e7-b525-471a-8ca6-b9c515b8b2d1",
   "metadata": {},
   "outputs": [],
   "source": [
    "# import bibliotecas\n",
    "\n",
    "import pandas as pd\n",
    "import numpy  as np\n",
    "\n",
    "from sklearn import metrics as mt\n",
    "from sklearn.ensemble import RandomForestClassifier\n"
   ]
  },
  {
   "cell_type": "markdown",
   "id": "6930abf2-06e5-4a79-b5e4-3f2b9590836d",
   "metadata": {},
   "source": [
    "### Datasets"
   ]
  },
  {
   "cell_type": "code",
   "execution_count": 2,
   "id": "05b93eaf-49a2-4a6b-9746-8fdb946012f4",
   "metadata": {},
   "outputs": [],
   "source": [
    "X_train = pd.read_csv('X_training.csv')\n",
    "y_train = pd.read_csv('y_training.csv') \n",
    "X_test = pd.read_csv('X_test.csv')\n",
    "y_test = pd.read_csv('y_test.csv')\n",
    "X_val = pd.read_csv('X_validation.csv')\n",
    "y_val = pd.read_csv('y_validation.csv') "
   ]
  },
  {
   "cell_type": "markdown",
   "id": "f58b5af3-a907-42a5-af12-4971d996ccc4",
   "metadata": {},
   "source": [
    "**Remover a coluna do ID dos datasets pois não é uma coluna categórica**"
   ]
  },
  {
   "cell_type": "code",
   "execution_count": 3,
   "id": "75d41a00-e340-4295-96b8-c24db6be4394",
   "metadata": {},
   "outputs": [],
   "source": [
    "X_train = X_train.drop(['id'] , axis =1)\n",
    "X_test = X_test.drop(['id'] , axis =1)\n",
    "X_val = X_val.drop(['id'] , axis =1)"
   ]
  },
  {
   "cell_type": "code",
   "execution_count": 4,
   "id": "66711934-bf12-4612-adc4-78cdc76be551",
   "metadata": {},
   "outputs": [
    {
     "data": {
      "text/html": [
       "<div>\n",
       "<style scoped>\n",
       "    .dataframe tbody tr th:only-of-type {\n",
       "        vertical-align: middle;\n",
       "    }\n",
       "\n",
       "    .dataframe tbody tr th {\n",
       "        vertical-align: top;\n",
       "    }\n",
       "\n",
       "    .dataframe thead th {\n",
       "        text-align: right;\n",
       "    }\n",
       "</style>\n",
       "<table border=\"1\" class=\"dataframe\">\n",
       "  <thead>\n",
       "    <tr style=\"text-align: right;\">\n",
       "      <th></th>\n",
       "      <th>customer_type</th>\n",
       "      <th>age</th>\n",
       "      <th>class</th>\n",
       "      <th>flight_distance</th>\n",
       "      <th>inflight_wifi_service</th>\n",
       "      <th>departure_arrival_time_convenient</th>\n",
       "      <th>ease_of_online_booking</th>\n",
       "      <th>gate_location</th>\n",
       "      <th>food_and_drink</th>\n",
       "      <th>online_boarding</th>\n",
       "      <th>...</th>\n",
       "      <th>baggage_handling</th>\n",
       "      <th>checkin_service</th>\n",
       "      <th>inflight_service</th>\n",
       "      <th>cleanliness</th>\n",
       "      <th>departure_delay_in_minutes</th>\n",
       "      <th>arrival_delay_in_minutes</th>\n",
       "      <th>gender_Female</th>\n",
       "      <th>gender_Male</th>\n",
       "      <th>type_of_travel_business_travel</th>\n",
       "      <th>type_of_travel_personal_travel</th>\n",
       "    </tr>\n",
       "  </thead>\n",
       "  <tbody>\n",
       "    <tr>\n",
       "      <th>0</th>\n",
       "      <td>1</td>\n",
       "      <td>0.525641</td>\n",
       "      <td>1.0</td>\n",
       "      <td>0.714055</td>\n",
       "      <td>1.0</td>\n",
       "      <td>1.0</td>\n",
       "      <td>1.0</td>\n",
       "      <td>1.0</td>\n",
       "      <td>0.8</td>\n",
       "      <td>0.8</td>\n",
       "      <td>...</td>\n",
       "      <td>0.75</td>\n",
       "      <td>0.75</td>\n",
       "      <td>0.8</td>\n",
       "      <td>0.8</td>\n",
       "      <td>0.000000</td>\n",
       "      <td>0.000000</td>\n",
       "      <td>0.0</td>\n",
       "      <td>1.0</td>\n",
       "      <td>1.0</td>\n",
       "      <td>0.0</td>\n",
       "    </tr>\n",
       "    <tr>\n",
       "      <th>1</th>\n",
       "      <td>1</td>\n",
       "      <td>0.615385</td>\n",
       "      <td>1.0</td>\n",
       "      <td>0.054725</td>\n",
       "      <td>0.4</td>\n",
       "      <td>1.0</td>\n",
       "      <td>1.0</td>\n",
       "      <td>1.0</td>\n",
       "      <td>0.4</td>\n",
       "      <td>0.4</td>\n",
       "      <td>...</td>\n",
       "      <td>0.25</td>\n",
       "      <td>0.00</td>\n",
       "      <td>0.4</td>\n",
       "      <td>0.6</td>\n",
       "      <td>0.004916</td>\n",
       "      <td>0.004946</td>\n",
       "      <td>0.0</td>\n",
       "      <td>1.0</td>\n",
       "      <td>1.0</td>\n",
       "      <td>0.0</td>\n",
       "    </tr>\n",
       "  </tbody>\n",
       "</table>\n",
       "<p>2 rows × 24 columns</p>\n",
       "</div>"
      ],
      "text/plain": [
       "   customer_type       age  class  flight_distance  inflight_wifi_service  \\\n",
       "0              1  0.525641    1.0         0.714055                    1.0   \n",
       "1              1  0.615385    1.0         0.054725                    0.4   \n",
       "\n",
       "   departure_arrival_time_convenient  ease_of_online_booking  gate_location  \\\n",
       "0                                1.0                     1.0            1.0   \n",
       "1                                1.0                     1.0            1.0   \n",
       "\n",
       "   food_and_drink  online_boarding  ...  baggage_handling  checkin_service  \\\n",
       "0             0.8              0.8  ...              0.75             0.75   \n",
       "1             0.4              0.4  ...              0.25             0.00   \n",
       "\n",
       "   inflight_service  cleanliness  departure_delay_in_minutes  \\\n",
       "0               0.8          0.8                    0.000000   \n",
       "1               0.4          0.6                    0.004916   \n",
       "\n",
       "   arrival_delay_in_minutes  gender_Female  gender_Male  \\\n",
       "0                  0.000000            0.0          1.0   \n",
       "1                  0.004946            0.0          1.0   \n",
       "\n",
       "   type_of_travel_business_travel  type_of_travel_personal_travel  \n",
       "0                             1.0                             0.0  \n",
       "1                             1.0                             0.0  \n",
       "\n",
       "[2 rows x 24 columns]"
      ]
     },
     "execution_count": 4,
     "metadata": {},
     "output_type": "execute_result"
    }
   ],
   "source": [
    "X_val.head(2)"
   ]
  },
  {
   "cell_type": "code",
   "execution_count": 5,
   "id": "7bbfe022-14e6-430b-b900-98860f95b039",
   "metadata": {},
   "outputs": [],
   "source": [
    "# preparação dos dados \n",
    "\n",
    "y_train = y_train.values.ravel()\n",
    "y_val = y_val.values.ravel()"
   ]
  },
  {
   "cell_type": "markdown",
   "id": "2454a625-dce5-431c-b7c5-d693394aa94b",
   "metadata": {},
   "source": [
    "### Dados de Treino"
   ]
  },
  {
   "cell_type": "code",
   "execution_count": 6,
   "id": "f08fd36b-b47f-41db-b038-3a63e7940022",
   "metadata": {},
   "outputs": [
    {
     "name": "stdout",
     "output_type": "stream",
     "text": [
      "Accuracy: 0.9978211404536992\n",
      "Precision = 0.9994250303456207\n",
      "Recall = 0.9955453735522464\n",
      "f1-score = 0.9974814295278477\n"
     ]
    }
   ],
   "source": [
    "md_list = np.arange(2, 25, 2)\n",
    "acc_scores = []\n",
    "precision_scores = []\n",
    "recall_scores = []\n",
    "f1score_scores = []\n",
    "\n",
    "max_acc = 0\n",
    "max_prec = 0\n",
    "max_rec = 0\n",
    "max_f1 = 0\n",
    "\n",
    "for i in md_list:\n",
    "    #Definition\n",
    "    model = RandomForestClassifier(n_estimators=20, max_depth=i)\n",
    "\n",
    "    #training \n",
    "    model.fit(X_train, y_train)\n",
    "\n",
    "    #predict\n",
    "    y_pred = model.predict( X_train)\n",
    "\n",
    "    #Acurracy\n",
    "    acc = mt.accuracy_score (y_train , y_pred)\n",
    "    acc_scores.append(acc)\n",
    "    if acc > max_acc:\n",
    "        max_acc = acc\n",
    "\n",
    "    #Precision\n",
    "    precision = mt.precision_score (y_train , y_pred)\n",
    "    precision_scores.append(precision)\n",
    "    if precision > max_prec:\n",
    "        max_prec = precision\n",
    "\n",
    "    #Recall \n",
    "    recall = mt.recall_score(y_train , y_pred)\n",
    "    recall_scores.append(recall)\n",
    "    if recall > max_rec:\n",
    "        max_rec = recall\n",
    "\n",
    "    #F1 Score\n",
    "    f1score = mt.f1_score(y_train , y_pred)\n",
    "    f1score_scores.append(f1score)\n",
    "    if f1score > max_f1:\n",
    "        max_f1 = f1score\n",
    "\n",
    "print('Accuracy: {}'.format(max_acc))\n",
    "print( 'Precision = {}'.format( max_prec ))\n",
    "print( 'Recall = {}'.format( max_rec ))\n",
    "print( 'f1-score = {}'.format( max_f1 ))"
   ]
  },
  {
   "cell_type": "markdown",
   "id": "1f989868-bb6d-460e-ac69-8615c4525b6a",
   "metadata": {},
   "source": [
    "**melhor max_depth:**"
   ]
  },
  {
   "cell_type": "code",
   "execution_count": 7,
   "id": "0de102d0-7921-4e0d-a5ad-0b1eb44d3e95",
   "metadata": {},
   "outputs": [
    {
     "data": {
      "text/plain": [
       "11"
      ]
     },
     "execution_count": 7,
     "metadata": {},
     "output_type": "execute_result"
    }
   ],
   "source": [
    "best_md = acc_scores.index(max(acc_scores))\n",
    "best_md"
   ]
  },
  {
   "cell_type": "markdown",
   "id": "e6eab70a-9ace-4a8a-a3c9-437653746e6a",
   "metadata": {},
   "source": [
    "### Dados de Validação"
   ]
  },
  {
   "cell_type": "markdown",
   "id": "d32a2492-d048-4dfe-b9dc-35a894f223f1",
   "metadata": {},
   "source": [
    "**Agora com o melhor parametro de max_depth sobre os dados de validação**"
   ]
  },
  {
   "cell_type": "code",
   "execution_count": 8,
   "id": "fbd6d720-643c-4986-a882-e12c28bacfc1",
   "metadata": {},
   "outputs": [
    {
     "name": "stdout",
     "output_type": "stream",
     "text": [
      "Accuracy: 0.9476173622059911\n",
      "Precision: 0.946055902960898\n",
      "Recall: 0.9322889598336922\n",
      "F1 Score: 0.9391219804053549\n"
     ]
    }
   ],
   "source": [
    "#Definition\n",
    "model = RandomForestClassifier(n_estimators=20, max_depth=best_md)\n",
    "\n",
    "#training \n",
    "model.fit(X_train, y_train)\n",
    "\n",
    "#predict\n",
    "yhat_val = model.predict( X_val)\n",
    "\n",
    "#Acurácia\n",
    "acc_val = mt.accuracy_score(y_val , yhat_val)\n",
    "print('Accuracy: {}'.format(acc_val))\n",
    "\n",
    "#Precision\n",
    "prec_val = mt.precision_score(y_val , yhat_val)\n",
    "print('Precision: {}'.format(prec_val))\n",
    "\n",
    "#Recall \n",
    "recall_val = mt.recall_score (y_val , yhat_val)\n",
    "print('Recall: {}'.format(recall_val))\n",
    "\n",
    "#F1Score\n",
    "f1 = mt.f1_score(y_val ,yhat_val)\n",
    "print ('F1 Score: {}'.format(f1))\n"
   ]
  },
  {
   "cell_type": "markdown",
   "id": "b7d7a787-4399-4856-9001-ba650c0167d9",
   "metadata": {},
   "source": [
    "### Dados de Teste"
   ]
  },
  {
   "cell_type": "markdown",
   "id": "4fd71b56-b478-484d-bd77-d061216ff3f5",
   "metadata": {},
   "source": [
    "**Modelo treinado e validado. Agora com o melhor parametro de max_depth sobre os dados de teste**"
   ]
  },
  {
   "cell_type": "code",
   "execution_count": 9,
   "id": "ea756a84-82e2-42a4-acea-bb2cae721284",
   "metadata": {},
   "outputs": [
    {
     "name": "stderr",
     "output_type": "stream",
     "text": [
      "\\\\?\\C:\\Users\\User\\AppData\\Roaming\\jupyterlab-desktop\\jlab_server\\Lib\\site-packages\\sklearn\\base.py:486: UserWarning: X has feature names, but RandomForestClassifier was fitted without feature names\n",
      "  warnings.warn(\n"
     ]
    },
    {
     "name": "stdout",
     "output_type": "stream",
     "text": [
      "Accuracy: 0.9501409647395049\n",
      "Precision: 0.9511823719097098\n",
      "Recall: 0.9343598768147823\n",
      "F1 Score: 0.9426960806072173\n"
     ]
    }
   ],
   "source": [
    "#Definition\n",
    "model = RandomForestClassifier(n_estimators=20, max_depth=best_md)\n",
    "\n",
    "#Training \n",
    "model.fit (np.concatenate((X_train,X_val)),\n",
    "           np.concatenate((y_train,y_val)))\n",
    "\n",
    "# predict\n",
    "ypred_test = model.predict( X_test)\n",
    "\n",
    "#Acurácia\n",
    "acc_test = mt.accuracy_score(y_test , ypred_test)\n",
    "print('Accuracy: {}'.format(acc_test))\n",
    "\n",
    "#Precision\n",
    "prec_test  = mt.precision_score(y_test , ypred_test)\n",
    "print('Precision: {}'.format(prec_test))\n",
    "\n",
    "#Recall \n",
    "recall_test  = mt.recall_score (y_test , ypred_test)\n",
    "print('Recall: {}'.format(recall_test))\n",
    "\n",
    "#F1Score\n",
    "f1test  = mt.f1_score(y_test ,ypred_test)\n",
    "print ('F1 Score: {}'.format(f1test))"
   ]
  }
 ],
 "metadata": {
  "kernelspec": {
   "display_name": "Python 3 (ipykernel)",
   "language": "python",
   "name": "python3"
  },
  "language_info": {
   "codemirror_mode": {
    "name": "ipython",
    "version": 3
   },
   "file_extension": ".py",
   "mimetype": "text/x-python",
   "name": "python",
   "nbconvert_exporter": "python",
   "pygments_lexer": "ipython3",
   "version": "3.12.3"
  }
 },
 "nbformat": 4,
 "nbformat_minor": 5
}
